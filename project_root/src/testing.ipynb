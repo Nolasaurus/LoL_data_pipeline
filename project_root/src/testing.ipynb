{
 "cells": [
  {
   "cell_type": "code",
   "execution_count": 2,
   "metadata": {},
   "outputs": [
    {
     "name": "stderr",
     "output_type": "stream",
     "text": [
      "'\\\\wsl.localhost\\Ubuntu\\home\\nolan\\projects\\LoL_data_pipeline\\project_root\\src'\n",
      "CMD.EXE was started with the above path as the current directory.\n",
      "UNC paths are not supported.  Defaulting to Windows directory.\n"
     ]
    },
    {
     "ename": "APIKeyExpiredError",
     "evalue": "Riot API key expired",
     "output_type": "error",
     "traceback": [
      "\u001b[0;31m---------------------------------------------------------------------------\u001b[0m",
      "\u001b[0;31mAPIKeyExpiredError\u001b[0m                        Traceback (most recent call last)",
      "\u001b[1;32m/home/nolan/projects/LoL_data_pipeline/project_root/src/testing.ipynb Cell 1\u001b[0m line \u001b[0;36m3\n\u001b[1;32m      <a href='vscode-notebook-cell://wsl%2Bubuntu/home/nolan/projects/LoL_data_pipeline/project_root/src/testing.ipynb#W0sdnNjb2RlLXJlbW90ZQ%3D%3D?line=0'>1</a>\u001b[0m \u001b[39mfrom\u001b[39;00m \u001b[39mMatchOverclass\u001b[39;00m \u001b[39mimport\u001b[39;00m MatchOverclass\n\u001b[0;32m----> <a href='vscode-notebook-cell://wsl%2Bubuntu/home/nolan/projects/LoL_data_pipeline/project_root/src/testing.ipynb#W0sdnNjb2RlLXJlbW90ZQ%3D%3D?line=2'>3</a>\u001b[0m test \u001b[39m=\u001b[39m MatchOverclass(\u001b[39m'\u001b[39;49m\u001b[39mNA1_4729149632\u001b[39;49m\u001b[39m'\u001b[39;49m)\n\u001b[1;32m      <a href='vscode-notebook-cell://wsl%2Bubuntu/home/nolan/projects/LoL_data_pipeline/project_root/src/testing.ipynb#W0sdnNjb2RlLXJlbW90ZQ%3D%3D?line=3'>4</a>\u001b[0m \u001b[39mprint\u001b[39m(test\u001b[39m.\u001b[39mpuuid_dict\u001b[39m.\u001b[39mitems(), test\u001b[39m.\u001b[39mpuuid_dict\u001b[39m.\u001b[39mvalues())\n",
      "File \u001b[0;32m~/projects/LoL_data_pipeline/project_root/src/MatchOverclass.py:21\u001b[0m, in \u001b[0;36mMatchOverclass.__init__\u001b[0;34m(self, match_id)\u001b[0m\n\u001b[1;32m     11\u001b[0m \u001b[39mdef\u001b[39;00m \u001b[39m__init__\u001b[39m(\u001b[39mself\u001b[39m, match_id):\n\u001b[1;32m     12\u001b[0m \u001b[39m    \u001b[39m\u001b[39m\"\"\"\u001b[39;00m\n\u001b[1;32m     13\u001b[0m \u001b[39m    Initializes the MatchOverclass with match data and timeline.\u001b[39;00m\n\u001b[1;32m     14\u001b[0m \n\u001b[0;32m   (...)\u001b[0m\n\u001b[1;32m     18\u001b[0m \u001b[39m    match_timeline (MatchTimelineDto): Object containing the match timeline.\u001b[39;00m\n\u001b[1;32m     19\u001b[0m \u001b[39m    \"\"\"\u001b[39;00m\n\u001b[0;32m---> 21\u001b[0m     \u001b[39mself\u001b[39m\u001b[39m.\u001b[39mmatch_data \u001b[39m=\u001b[39m \u001b[39mself\u001b[39;49m\u001b[39m.\u001b[39;49mget_match_dto(match_id)\n\u001b[1;32m     22\u001b[0m     \u001b[39mself\u001b[39m\u001b[39m.\u001b[39mmatch_timeline \u001b[39m=\u001b[39m \u001b[39mself\u001b[39m\u001b[39m.\u001b[39mget_match_timeline_dto(match_id)\n\u001b[1;32m     23\u001b[0m     \u001b[39mself\u001b[39m\u001b[39m.\u001b[39mmatch_id \u001b[39m=\u001b[39m \u001b[39mself\u001b[39m\u001b[39m.\u001b[39mmatch_data\u001b[39m.\u001b[39mmetadata\u001b[39m.\u001b[39mmatchId\n",
      "File \u001b[0;32m~/projects/LoL_data_pipeline/project_root/src/MatchOverclass.py:118\u001b[0m, in \u001b[0;36mMatchOverclass.get_match_dto\u001b[0;34m(match_id)\u001b[0m\n\u001b[1;32m    115\u001b[0m \u001b[39m@staticmethod\u001b[39m\n\u001b[1;32m    116\u001b[0m \u001b[39mdef\u001b[39;00m \u001b[39mget_match_dto\u001b[39m(match_id):\n\u001b[1;32m    117\u001b[0m     api_client \u001b[39m=\u001b[39m API_Client()\n\u001b[0;32m--> 118\u001b[0m     match_data \u001b[39m=\u001b[39m api_client\u001b[39m.\u001b[39;49mget_match_by_match_id(match_id)\n\u001b[1;32m    119\u001b[0m     \u001b[39mreturn\u001b[39;00m MatchDto(match_data)\n",
      "File \u001b[0;32m~/projects/LoL_data_pipeline/project_root/src/api_client.py:66\u001b[0m, in \u001b[0;36mAPI_Client.get_match_by_match_id\u001b[0;34m(self, match_id)\u001b[0m\n\u001b[1;32m     64\u001b[0m \u001b[39mdef\u001b[39;00m \u001b[39mget_match_by_match_id\u001b[39m(\u001b[39mself\u001b[39m, match_id):\n\u001b[1;32m     65\u001b[0m     url \u001b[39m=\u001b[39m \u001b[39mf\u001b[39m\u001b[39m\"\u001b[39m\u001b[39mhttps://americas.api.riotgames.com/lol/match/v5/matches/\u001b[39m\u001b[39m{\u001b[39;00mmatch_id\u001b[39m}\u001b[39;00m\u001b[39m?api_key=\u001b[39m\u001b[39m{\u001b[39;00m\u001b[39mself\u001b[39m\u001b[39m.\u001b[39mapi_key\u001b[39m}\u001b[39;00m\u001b[39m\"\u001b[39m\n\u001b[0;32m---> 66\u001b[0m     response \u001b[39m=\u001b[39m \u001b[39mself\u001b[39;49m\u001b[39m.\u001b[39;49m_make_request(url, timeout\u001b[39m=\u001b[39;49m\u001b[39m5\u001b[39;49m)\n\u001b[1;32m     67\u001b[0m     \u001b[39mif\u001b[39;00m response:\n\u001b[1;32m     68\u001b[0m         \u001b[39mreturn\u001b[39;00m response\n",
      "File \u001b[0;32m~/projects/LoL_data_pipeline/project_root/src/api_client.py:42\u001b[0m, in \u001b[0;36mAPI_Client._make_request\u001b[0;34m(self, url, timeout)\u001b[0m\n\u001b[1;32m     40\u001b[0m     \u001b[39mreturn\u001b[39;00m response\u001b[39m.\u001b[39mjson()\n\u001b[1;32m     41\u001b[0m \u001b[39melif\u001b[39;00m response\u001b[39m.\u001b[39mstatus_code \u001b[39m==\u001b[39m \u001b[39m403\u001b[39m:\n\u001b[0;32m---> 42\u001b[0m     \u001b[39mraise\u001b[39;00m APIKeyExpiredError(\u001b[39m\"\u001b[39m\u001b[39mRiot API key expired\u001b[39m\u001b[39m\"\u001b[39m)\n\u001b[1;32m     43\u001b[0m \u001b[39melif\u001b[39;00m response\u001b[39m.\u001b[39mstatus_code \u001b[39m==\u001b[39m \u001b[39m429\u001b[39m:\n\u001b[1;32m     44\u001b[0m     \u001b[39mraise\u001b[39;00m RateLimitExceededError(\u001b[39m\"\u001b[39m\u001b[39mToo many API calls recently\u001b[39m\u001b[39m\"\u001b[39m)\n",
      "\u001b[0;31mAPIKeyExpiredError\u001b[0m: Riot API key expired"
     ]
    }
   ],
   "source": [
    "from MatchOverclass import MatchOverclass\n",
    "\n",
    "test = MatchOverclass('NA1_4729149632')\n",
    "print(test.puuid_dict.items(), test.puuid_dict.values())"
   ]
  },
  {
   "cell_type": "code",
   "execution_count": null,
   "metadata": {},
   "outputs": [],
   "source": []
  }
 ],
 "metadata": {
  "kernelspec": {
   "display_name": ".venv",
   "language": "python",
   "name": "python3"
  },
  "language_info": {
   "codemirror_mode": {
    "name": "ipython",
    "version": 3
   },
   "file_extension": ".py",
   "mimetype": "text/x-python",
   "name": "python",
   "nbconvert_exporter": "python",
   "pygments_lexer": "ipython3",
   "version": "3.10.12"
  }
 },
 "nbformat": 4,
 "nbformat_minor": 2
}

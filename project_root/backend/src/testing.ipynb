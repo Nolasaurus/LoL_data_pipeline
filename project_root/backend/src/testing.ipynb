{
 "cells": [
  {
   "cell_type": "code",
   "execution_count": 4,
   "metadata": {},
   "outputs": [
    {
     "name": "stdout",
     "output_type": "stream",
     "text": [
      "dict_items([('JTlUMaxabAqHYKfZGtxAD3MnfJaFuE00k1MInjlMaf8EksFjNS6fIOfRdUiLgBR3APbZcN2hHQrMww', 'Grimzon'), ('xVBTyGXEyr3rp821fqyLm7rtaGhGTE9PsTBGlg2ErXqi1xkrJ027bI96B3IptCEFcp1kJLokZA0wkg', 'mrssalami'), ('2FC07IrUClki_RfBr9y7265GQwROf1w5u7iXf4XS-beoNLDYpx6cF398P38dKjcDwxn-ShH5isgv0w', 'Siggy Biscuit'), ('kKHzxnfB-GlLoCB7qR6kS6u-9OON2cHzf9WgQ5Lzbp7LyuoQKvx0DfGFDW1O4fWEaGnmq-H7AamOzQ', 'minecafminer74'), ('BXDOfVpvELfjo2b32NIJbVcnqiCfraLhdfrlC043NmBiiHm1ujX7zJ-ZUURfzontrH7KEWcTnC28Xg', 'dumbass690'), ('p7O7qi__62cwXGAKMlehatTHu_lX76zCdFHf0C8M_gD3eFFZYufRUJfw-j9ThMYKFkI7yjgVGgkXhw', 'Gwesus'), ('U2bmUwGqeTrsIa1iw5kKxV3bdqd_PiUiCziB-LIs9uKsYnqhvkTJEX9du37ZKojis6ytNRpMStLztg', 'TheWetLobster'), ('rOra4jm75Nj0y4-_7D7MVRfiBlpBXhpSonyI0rwwFacc0uV9fg2HC7PgC_nNJZ1WCXFL_EfTBrDLwQ', 'HedgeFundKilla'), ('YqoieZ6T-LT3aJaCP6u4SaTlFWjjZ_N9mgjhm846AkUF-r0nKqTEgGj6t9-FUZZcMJtUr_IHmse6aw', 'UsingTXPowerGrid'), ('aPbSed5kgqDjCuxhRgMQeOkCOaMaSbOGVmuWOU7r-4sXDCrKlvnQv14F5AggudjUQtCzCGnSdjD_-Q', 'Slayer Vayne')]) dict_values(['Grimzon', 'mrssalami', 'Siggy Biscuit', 'minecafminer74', 'dumbass690', 'Gwesus', 'TheWetLobster', 'HedgeFundKilla', 'UsingTXPowerGrid', 'Slayer Vayne'])\n"
     ]
    }
   ],
   "source": [
    "import sys\n",
    "sys.path.append('/home/nolan/projects/LoL_data_pipeline/project_root')\n",
    "\n",
    "from backend.src.MatchOverclass import MatchOverclass\n",
    "\n",
    "test = MatchOverclass('NA1_4729149632')\n",
    "print(test.puuid_dict.items(), test.puuid_dict.values())"
   ]
  },
  {
   "cell_type": "code",
   "execution_count": null,
   "metadata": {},
   "outputs": [],
   "source": []
  }
 ],
 "metadata": {
  "kernelspec": {
   "display_name": ".venv",
   "language": "python",
   "name": "python3"
  },
  "language_info": {
   "codemirror_mode": {
    "name": "ipython",
    "version": 3
   },
   "file_extension": ".py",
   "mimetype": "text/x-python",
   "name": "python",
   "nbconvert_exporter": "python",
   "pygments_lexer": "ipython3",
   "version": "3.10.12"
  }
 },
 "nbformat": 4,
 "nbformat_minor": 2
}

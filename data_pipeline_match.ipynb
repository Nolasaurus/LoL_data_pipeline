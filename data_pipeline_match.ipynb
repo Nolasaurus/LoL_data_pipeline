{
 "cells": [
  {
   "cell_type": "code",
   "execution_count": 1,
   "metadata": {},
   "outputs": [],
   "source": [
    "import json\n",
    "import pandas as pd\n",
    "\n",
    "league_id = '008da363-45af-4a07-87d2-f22567e27213'\n",
    "\n",
    "from get_summoner_ids_from_league_id import get_summoner_ids_from_league_id\n",
    "from get_puuid_by_summon_id import get_puuid_by_summon_id\n",
    "from get_match_ids_by_puuid import get_match_ids_by_puuid\n",
    "from get_match_timeline import get_match_timeline\n",
    "from get_match_by_match_id import get_match_by_match_id\n",
    "from extract_events_from_timeline import extract_events_from_timeline"
   ]
  },
  {
   "cell_type": "code",
   "execution_count": null,
   "metadata": {},
   "outputs": [],
   "source": []
  }
 ],
 "metadata": {
  "kernelspec": {
   "display_name": "data-sci-pipeline",
   "language": "python",
   "name": "python3"
  },
  "language_info": {
   "codemirror_mode": {
    "name": "ipython",
    "version": 3
   },
   "file_extension": ".py",
   "mimetype": "text/x-python",
   "name": "python",
   "nbconvert_exporter": "python",
   "pygments_lexer": "ipython3",
   "version": "3.11.3"
  },
  "orig_nbformat": 4
 },
 "nbformat": 4,
 "nbformat_minor": 2
}

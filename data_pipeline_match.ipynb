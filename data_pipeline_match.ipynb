{
 "cells": [
  {
   "cell_type": "code",
   "execution_count": 5,
   "metadata": {},
   "outputs": [],
   "source": [
    "import json\n",
    "import pandas as pd\n",
    "\n",
    "league_id = '008da363-45af-4a07-87d2-f22567e27213'\n",
    "\n",
    "from src.get_summoner_ids_from_league_id import get_summoner_ids_from_league_id\n",
    "from src.get_puuid_by_summon_id import get_puuid_by_summon_id\n",
    "from src.get_match_ids_by_puuid import get_match_ids_by_puuid\n",
    "from src.get_match_timeline import get_match_timeline\n",
    "from src.get_match_by_match_id import get_match_by_match_id\n",
    "from src.extract_events_from_timeline import extract_events_from_timeline"
   ]
  },
  {
   "cell_type": "code",
   "execution_count": 10,
   "metadata": {},
   "outputs": [],
   "source": [
    "pd.DataFrame(get_summoner_ids_from_league_id(league_id)).to_csv('tests/files/summoner_ids_from_league_id',index=False,header=False)"
   ]
  },
  {
   "cell_type": "code",
   "execution_count": 61,
   "metadata": {},
   "outputs": [
    {
     "name": "stdout",
     "output_type": "stream",
     "text": [
      "['NA1_4334085229', 'NA1_3720451304', 'NA1_3999408652', 'NA1_4730272790', 'NA1_4729028871', 'NA1_4316964052', 'NA1_4144801485', 'NA1_4730458896', 'NA1_4729236700', 'NA1_4732725106', 'NA1_4731598809', 'NA1_4317000585', 'NA1_4733176682', 'NA1_4661776183', 'NA1_4732158712', 'NA1_3721689378', 'NA1_4733221817', 'NA1_4729288774', 'NA1_4716426808', 'NA1_4731630308', 'NA1_4732075515', 'NA1_4732635752', 'NA1_4731700781', 'NA1_4732269793', 'NA1_4729253603', 'NA1_3951298981', 'NA1_4722530575', 'NA1_4722510115', 'NA1_4730426211', 'NA1_4731725908', 'NA1_4582748967', 'NA1_4586574877', 'NA1_4010264452', 'NA1_4594678019', 'NA1_4733271978', 'NA1_4114138238', 'NA1_4579507558', 'NA1_4732316254', 'NA1_4578359753', 'NA1_4733191591', 'NA1_4733050255', 'NA1_4733014869', 'NA1_4526318966', 'NA1_4586671320', 'NA1_4620394242', 'NA1_3721387703', 'NA1_4722522985', 'NA1_4661792899', 'NA1_4731564720', 'NA1_4582928739', 'NA1_4729854000', 'NA1_4732342030', 'NA1_4111864936', 'NA1_4426361344', 'NA1_4573998043', 'NA1_3985496672', 'NA1_3721380428', 'NA1_4730471137', 'NA1_4532435706', 'NA1_4721650418', 'NA1_4111716008', 'NA1_4528189092', 'NA1_4700333746', 'NA1_4732096594', 'NA1_4661474241', 'NA1_4733168950', 'NA1_4637644099', 'NA1_3720560816', 'NA1_4729458573', 'NA1_4461262434', 'NA1_4089523435', 'NA1_4733224696', 'NA1_4723314787', 'NA1_4528207618', 'NA1_4356851575', 'NA1_4105951871', 'NA1_3949109317', 'NA1_3720523909', 'NA1_4722502049', 'NA1_4317021128', 'NA1_4349223889', 'NA1_4731661025', 'NA1_4707907187', 'NA1_4721564112', 'NA1_4583072795', 'NA1_4579252335', 'NA1_4662560809', 'NA1_4582805732', 'NA1_4729193736', 'NA1_4620130838', 'NA1_4732702053', 'NA1_4112022825', 'NA1_4730227675', 'NA1_4705115362', 'NA1_4449655854', 'NA1_4111309918', 'NA1_4733195324', 'NA1_4661405269', 'NA1_4728284311', 'NA1_4732770048', 'NA1_4506971731', 'NA1_3951351181', 'NA1_4593641620', 'NA1_4635508650', 'NA1_4623826610', 'NA1_4732170826', 'NA1_4507154402', 'NA1_4619594513', 'NA1_4730486573', 'NA1_4726449462', 'NA1_4730183733', 'NA1_3953249597', 'NA1_4623739352', 'NA1_4705125603', 'NA1_4664276647', 'NA1_4729228108', 'NA1_4583017440', 'NA1_3721565724', 'NA1_4104783496', 'NA1_4661863915', 'NA1_4582769115', 'NA1_4733256855', 'NA1_4661433175', 'NA1_4582781428', 'NA1_4728372990', 'NA1_4461216488', 'NA1_4144779360', 'NA1_4662901958', 'NA1_4582931406', 'NA1_4105859607', 'NA1_4099749924', 'NA1_3721486187', 'NA1_4657825595', 'NA1_4355510082', 'NA1_4624087381', 'NA1_4660607198', 'NA1_4426293395', 'NA1_3985554986', 'NA1_4634417054', 'NA1_3720666830', 'NA1_4730251256', 'NA1_4528223609', 'NA1_4730384836', 'NA1_4729149632', 'NA1_4528200545', 'NA1_4729312995', 'NA1_4730285399', 'NA1_4732148848', 'NA1_4729055191', 'NA1_3951295997', 'NA1_4356875019', 'NA1_4306132046', 'NA1_4733063348', 'NA1_3949097465', 'NA1_4729170350', 'NA1_3721826567', 'NA1_3953264651', 'NA1_4349151815', 'NA1_4506957849', 'NA1_4518725197']\n"
     ]
    }
   ],
   "source": [
    "import os\n",
    "import re\n",
    "\n",
    "def get_match_ids_from_files(folder=\"match_timelines\"):\n",
    "    # List all filenames in the directory\n",
    "    filenames = os.listdir(folder)\n",
    "\n",
    "    # Prepare an empty list to store the match IDs\n",
    "    selected_match_ids_list = []\n",
    "\n",
    "    # Go through each filename\n",
    "    for filename in filenames:\n",
    "        # Use regex to match the pattern 'NA1_[0-9]+.json' and extract the match ID\n",
    "        match_id = re.search('(NA1_[0-9]+).json', filename)\n",
    "        # If a match ID was found, add it to the list\n",
    "        if match_id:\n",
    "            selected_match_ids_list.append(match_id.group(1))\n",
    "\n",
    "    return selected_match_ids_list\n",
    "\n",
    "# Specify the directory you want to scan\n",
    "folder = \"match_timelines\"\n",
    "selected_match_ids_list = get_match_ids_from_files(folder)\n",
    "print(selected_match_ids_list)\n"
   ]
  },
  {
   "cell_type": "code",
   "execution_count": 64,
   "metadata": {},
   "outputs": [],
   "source": [
    "import json\n",
    "import os\n",
    "from rate_limiter import rl_sec, rl_min\n",
    "\n",
    "# Create the 'matches' folder if it doesn't exist\n",
    "folder = 'matches'\n",
    "if not os.path.exists(folder):\n",
    "    os.makedirs(folder)\n",
    "\n",
    "# Get match \n",
    "match_dict = {}\n",
    "for match_id in selected_match_ids_list:\n",
    "    # Apply rate limiting\n",
    "    rl_sec()\n",
    "    rl_min()\n",
    "\n",
    "    # Get match data\n",
    "    match = get_match_by_match_id(match_id)\n",
    "\n",
    "    # Store the match JSONs\n",
    "    match_dict[match_id] = match\n",
    "\n",
    "    # Save the JSON data to a file inside the 'matches' folder\n",
    "    with open(os.path.join(folder, f'{match_id}.json'), 'w') as json_file:\n",
    "        json.dump(match, json_file)"
   ]
  },
  {
   "cell_type": "code",
   "execution_count": 80,
   "metadata": {},
   "outputs": [],
   "source": [
    "import os\n",
    "import json\n",
    "import pandas as pd\n",
    "\n",
    "folder = 'matches'\n",
    "filenames = os.listdir(folder)\n",
    "\n",
    "dataframes = []  # to store all dataframes\n",
    "match_dict = {}\n",
    "for filename in filenames:\n",
    "    if filename.endswith('.json'):  # to ensure we're working with JSON files\n",
    "        with open(os.path.join(folder, filename), 'r') as json_file:\n",
    "            data = json.load(json_file)\n",
    "            # ignore .json at end of filename\n",
    "            match_dict[filename[:-5]] = (data['metadata'], data['info'])"
   ]
  },
  {
   "cell_type": "code",
   "execution_count": 97,
   "metadata": {},
   "outputs": [],
   "source": [
    "import pandas as pd\n",
    "\n",
    "# Assuming match_dict is a dictionary containing data related to matches\n",
    "# Accessing the DataFrame and extracting its columns\n",
    "columns_list = list(pd.DataFrame(match_dict['NA1_4334085229'][1]['participants']).columns)\n",
    "\n",
    "# Creating a DataFrame from the list of columns\n",
    "columns_df = pd.DataFrame(columns_list, columns=['Column Names'])\n",
    "\n",
    "# Save the DataFrame as a CSV file\n",
    "columns_df.to_csv('fields.csv', index=False)\n"
   ]
  },
  {
   "cell_type": "markdown",
   "metadata": {},
   "source": [
    "# Prep participant data ready for upload"
   ]
  },
  {
   "cell_type": "markdown",
   "metadata": {},
   "source": [
    "# Connect to postgreSQL"
   ]
  },
  {
   "cell_type": "code",
   "execution_count": 2,
   "metadata": {},
   "outputs": [
    {
     "name": "stdout",
     "output_type": "stream",
     "text": [
      "Successfully connected!\n"
     ]
    }
   ],
   "source": [
    "from sqlalchemy import text\n",
    "from sqlalchemy.exc import OperationalError\n",
    "from sqlalchemy import create_engine, Column, Integer, String, ForeignKey\n",
    "from sqlalchemy.ext.declarative import declarative_base\n",
    "from sqlalchemy.orm import sessionmaker, relationship\n",
    "\n",
    "def read_txt(filename):\n",
    "    with open(filename, 'r') as file:\n",
    "        return file.read().strip()\n",
    "\n",
    "password = read_txt('postgres_pw.txt')\n",
    "host = 'localhost'\n",
    "database_name = 'loldb'\n",
    "port = '5432'\n",
    "engine = create_engine(f'postgresql://postgres:{password}@{host}:{port}/{database_name}')\n",
    "\n",
    "# Try connecting and executing a simple query\n",
    "try:\n",
    "    with engine.connect() as connection:\n",
    "        result = connection.execute(text(\"SELECT 1\"))\n",
    "        print(\"Successfully connected!\")\n",
    "except OperationalError as e:\n",
    "    print(f\"Connection failed: {e}\")"
   ]
  },
  {
   "cell_type": "markdown",
   "metadata": {},
   "source": []
  },
  {
   "cell_type": "markdown",
   "metadata": {},
   "source": [
    "# Load match data into SQL, for all match.json files"
   ]
  },
  {
   "cell_type": "code",
   "execution_count": 5,
   "metadata": {},
   "outputs": [
    {
     "ename": "NameError",
     "evalue": "name 'match' is not defined",
     "output_type": "error",
     "traceback": [
      "\u001b[0;31m---------------------------------------------------------------------------\u001b[0m",
      "\u001b[0;31mNameError\u001b[0m                                 Traceback (most recent call last)",
      "Cell \u001b[0;32mIn[5], line 4\u001b[0m\n\u001b[1;32m      1\u001b[0m included_match_fields \u001b[39m=\u001b[39m pd\u001b[39m.\u001b[39mread_csv(\u001b[39m'\u001b[39m\u001b[39mincluded_match_fields.csv\u001b[39m\u001b[39m'\u001b[39m)\n\u001b[1;32m      2\u001b[0m included_fields_list \u001b[39m=\u001b[39m included_match_fields\u001b[39m.\u001b[39miloc[:, \u001b[39m0\u001b[39m]\u001b[39m.\u001b[39mtolist()\n\u001b[0;32m----> 4\u001b[0m df \u001b[39m=\u001b[39m pd\u001b[39m.\u001b[39mDataFrame(match[\u001b[39m1\u001b[39m][\u001b[39m'\u001b[39m\u001b[39mparticipants\u001b[39m\u001b[39m'\u001b[39m])[included_fields_list]\n\u001b[1;32m      5\u001b[0m df\n",
      "\u001b[0;31mNameError\u001b[0m: name 'match' is not defined"
     ]
    }
   ],
   "source": [
    "included_match_fields = pd.read_csv('included_match_fields.csv')\n",
    "included_fields_list = included_match_fields.iloc[:, 0].tolist()\n",
    "\n",
    "df = pd.DataFrame(match[1]['participants'])[included_fields_list]\n",
    "df"
   ]
  },
  {
   "cell_type": "code",
   "execution_count": null,
   "metadata": {},
   "outputs": [],
   "source": [
    "def extract_match_data(player_data):\n",
    "    included_fields = pd.read_csv('included_match_fields.csv')\n",
    "    included_fields_list = included_fields.iloc[:, 0].tolist()\n",
    "    \n",
    "    metadata = player_data[0]\n",
    "    match_id = metadata['matchId']\n",
    "    \n",
    "    info = player_data[1]\n",
    "    \n",
    "    data = pd.DataFrame(info['participants'])[included_fields_list]\n",
    "    data.insert(0, 'PUUid', metadata['participants'])\n",
    "    data.insert(0, 'match_id', match_id)\n",
    "    \n",
    "    return data"
   ]
  },
  {
   "cell_type": "code",
   "execution_count": 286,
   "metadata": {},
   "outputs": [
    {
     "name": "stdout",
     "output_type": "stream",
     "text": [
      "Match NA1_4730272790 has fewer than 10 participants and won't be added to the database.\n",
      "Match NA1_4730458896 has fewer than 10 participants and won't be added to the database.\n",
      "Match NA1_4731598809 has fewer than 10 participants and won't be added to the database.\n",
      "Match NA1_4731630308 has fewer than 10 participants and won't be added to the database.\n",
      "Match NA1_4731700781 has fewer than 10 participants and won't be added to the database.\n",
      "Match NA1_4732269793 has fewer than 10 participants and won't be added to the database.\n",
      "Match NA1_4722530575 has fewer than 10 participants and won't be added to the database.\n",
      "Match NA1_4722510115 has fewer than 10 participants and won't be added to the database.\n",
      "Match NA1_4730426211 has fewer than 10 participants and won't be added to the database.\n",
      "Match NA1_4731725908 has fewer than 10 participants and won't be added to the database.\n",
      "Match NA1_4732316254 has fewer than 10 participants and won't be added to the database.\n",
      "Match NA1_4722522985 has fewer than 10 participants and won't be added to the database.\n",
      "Match NA1_4731564720 has fewer than 10 participants and won't be added to the database.\n",
      "Match NA1_4732342030 has fewer than 10 participants and won't be added to the database.\n",
      "Match NA1_4573998043 has fewer than 10 participants and won't be added to the database.\n",
      "Match NA1_4730471137 has fewer than 10 participants and won't be added to the database.\n",
      "Match NA1_4721650418 has fewer than 10 participants and won't be added to the database.\n",
      "Match NA1_4729458573 has fewer than 10 participants and won't be added to the database.\n",
      "Match NA1_4722502049 has fewer than 10 participants and won't be added to the database.\n",
      "Match NA1_4731661025 has fewer than 10 participants and won't be added to the database.\n",
      "Match NA1_4721564112 has fewer than 10 participants and won't be added to the database.\n",
      "Match NA1_4730227675 has fewer than 10 participants and won't be added to the database.\n",
      "Match NA1_4728284311 has fewer than 10 participants and won't be added to the database.\n",
      "Match NA1_4732770048 has fewer than 10 participants and won't be added to the database.\n",
      "Match NA1_4506971731 has fewer than 10 participants and won't be added to the database.\n",
      "Match NA1_4507154402 has fewer than 10 participants and won't be added to the database.\n",
      "Match NA1_4730486573 has fewer than 10 participants and won't be added to the database.\n",
      "Match NA1_4730183733 has fewer than 10 participants and won't be added to the database.\n",
      "Match NA1_4728372990 has fewer than 10 participants and won't be added to the database.\n",
      "Match NA1_4730251256 has fewer than 10 participants and won't be added to the database.\n",
      "Match NA1_4730384836 has fewer than 10 participants and won't be added to the database.\n",
      "Match NA1_4730285399 has fewer than 10 participants and won't be added to the database.\n",
      "Match NA1_4506957849 has fewer than 10 participants and won't be added to the database.\n"
     ]
    }
   ],
   "source": [
    "from extract_player_data_from_match import extract_player_data_from_match\n",
    "\n",
    "included_fields = pd.read_csv('included_match_fields.csv')\n",
    "included_fields_list = included_fields.iloc[:, 0].tolist()\n",
    "\n",
    "for match_id, match in match_dict.items():\n",
    "    PUUids = match[0]['participants']\n",
    "    if len(PUUids) == 10:\n",
    "        selected_data = pd.DataFrame(match[1]['participants'])[included_fields_list]\n",
    "        selected_data.insert(0, 'PUUid', PUUids)\n",
    "        selected_data.insert(0, 'match_id', match_id)\n",
    "        \n",
    "        selected_data.to_sql('player_match_data', engine, if_exists='append', index=False)\n",
    "    else:\n",
    "        print(f\"Match {match_id} has fewer than 10 participants and won't be added to the database.\")\n",
    "\n",
    "# TODO handle partially full matches"
   ]
  },
  {
   "cell_type": "markdown",
   "metadata": {},
   "source": [
    "# Load extract_match_data(match_dict[match_id] to SQL"
   ]
  },
  {
   "cell_type": "code",
   "execution_count": 275,
   "metadata": {},
   "outputs": [
    {
     "name": "stdout",
     "output_type": "stream",
     "text": [
      "Table 'player_match_data' dropped successfully.\n"
     ]
    }
   ],
   "source": [
    "# from sqlalchemy import text, create_engine\n",
    "# from sqlalchemy.exc import OperationalError\n",
    "\n",
    "# # Assuming 'engine' is your database engine\n",
    "# try:\n",
    "#     with engine.connect() as connection:\n",
    "#         connection.execute(text(\"DROP TABLE IF EXISTS player_match_data\"))\n",
    "#         print(\"Table 'player_match_data' dropped successfully.\")\n",
    "# except OperationalError as e:\n",
    "#     print(f\"Operation failed: {e}\")"
   ]
  },
  {
   "cell_type": "code",
   "execution_count": 6,
   "metadata": {},
   "outputs": [
    {
     "name": "stdout",
     "output_type": "stream",
     "text": [
      "   count\n",
      "0   1204\n"
     ]
    }
   ],
   "source": [
    "try:\n",
    "    # Fetch data from the table and print it\n",
    "    with engine.connect() as connection:\n",
    "        result = connection.execute(text('SELECT count(distinct \"PUUid\") FROM player_match_data'))\n",
    "        data_df = pd.DataFrame(result.fetchall(), columns=result.keys())\n",
    "        print(data_df)\n",
    "except OperationalError as e:\n",
    "    print(f\"Connection failed: {e}\")"
   ]
  },
  {
   "cell_type": "code",
   "execution_count": 8,
   "metadata": {},
   "outputs": [
    {
     "name": "stdout",
     "output_type": "stream",
     "text": [
      "   count\n",
      "0    162\n"
     ]
    }
   ],
   "source": [
    "# Query the db\n",
    "\n",
    "try:\n",
    "    # Fetch data from the table and print it\n",
    "    with engine.connect() as connection:\n",
    "        result = connection.execute(text('SELECT count(distinct \"championName\") FROM player_match_data'))\n",
    "        data_df = pd.DataFrame(result.fetchall(), columns=result.keys())\n",
    "        print(data_df)\n",
    "except OperationalError as e:\n",
    "    print(f\"Connection failed: {e}\")\n"
   ]
  },
  {
   "cell_type": "code",
   "execution_count": 303,
   "metadata": {},
   "outputs": [],
   "source": [
    "from flask import Flask\n",
    "from flask_sqlalchemy import SQLAlchemy\n",
    "\n",
    "def read_txt(file_path):\n",
    "    with open(file_path, 'r') as f:\n",
    "        return f.read().strip()\n",
    "\n",
    "app = Flask(__name__)\n",
    "\n",
    "# Update this to your database credentials\n",
    "password = read_txt('postgres_pw.txt')\n",
    "host = 'localhost'\n",
    "database_name = 'loldb'\n",
    "port = '5432'\n",
    "\n",
    "app.config['SQLALCHEMY_DATABASE_URI'] = f'postgresql://postgres:{password}@{host}:{port}/{database_name}'\n",
    "app.config['SQLALCHEMY_TRACK_MODIFICATIONS'] = False\n",
    "\n",
    "db = SQLAlchemy(app)\n",
    "\n",
    "class User(db.Model):\n",
    "    id = db.Column(db.Integer, primary_key=True)\n",
    "    username = db.Column(db.String(80), unique=True, nullable=False)\n",
    "    email = db.Column(db.String(120), unique=True, nullable=False)\n",
    "\n",
    "    def __repr__(self):\n",
    "        return '<User %r>' % self.username\n"
   ]
  },
  {
   "cell_type": "code",
   "execution_count": 305,
   "metadata": {},
   "outputs": [],
   "source": [
    "with app.app_context():\n",
    "    db.create_all()\n",
    "\n",
    "with app.app_context():\n",
    "    new_user = User(username='nolan', email='meyer09@gmail.com')\n",
    "    db.session.add(new_user)\n",
    "    db.session.commit()"
   ]
  },
  {
   "cell_type": "code",
   "execution_count": 310,
   "metadata": {},
   "outputs": [],
   "source": [
    "from flask import Flask, request, jsonify\n",
    "from flask_sqlalchemy import SQLAlchemy\n",
    "\n",
    "app = Flask(__name__)\n",
    "# Update this to your database credentials\n",
    "password = read_txt('postgres_pw.txt')\n",
    "host = 'localhost'\n",
    "database_name = 'loldb'\n",
    "port = '5432'\n",
    "\n",
    "app.config['SQLALCHEMY_DATABASE_URI'] = f'postgresql://postgres:{password}@{host}:{port}/{database_name}'\n",
    "app.config['SQLALCHEMY_TRACK_MODIFICATIONS'] = False\n",
    "\n",
    "db = SQLAlchemy(app)\n",
    "\n",
    "class Match(db.Model):\n",
    "    __tablename__ = 'player_match_data'\n",
    "\n",
    "    id = db.Column(db.Integer, primary_key=True)\n",
    "    # other fields...\n",
    "\n",
    "@app.route('/get_match', methods=['GET'])\n",
    "def get_match():\n",
    "    match_id = request.args.get('match_id', default = 1, type = int)\n",
    "    match = Match.query.get(match_id)\n",
    "    if match is None:\n",
    "        return jsonify({'error': 'Match not found'}), 404\n",
    "    else:\n",
    "        return jsonify({'match_id': match.id})  # modify this line to return required fields"
   ]
  }
 ],
 "metadata": {
  "kernelspec": {
   "display_name": "data-sci-pipeline",
   "language": "python",
   "name": "python3"
  },
  "language_info": {
   "codemirror_mode": {
    "name": "ipython",
    "version": 3
   },
   "file_extension": ".py",
   "mimetype": "text/x-python",
   "name": "python",
   "nbconvert_exporter": "python",
   "pygments_lexer": "ipython3",
   "version": "3.11.3"
  },
  "orig_nbformat": 4
 },
 "nbformat": 4,
 "nbformat_minor": 2
}

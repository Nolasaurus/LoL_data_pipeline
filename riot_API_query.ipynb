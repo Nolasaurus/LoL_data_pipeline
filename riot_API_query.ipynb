{
 "cells": [
  {
   "cell_type": "code",
   "execution_count": 15,
   "metadata": {},
   "outputs": [],
   "source": [
    "file_path = \"API-key.txt\"  # Replace with the actual path to your file\n",
    "\n",
    "try:\n",
    "    with open(file_path, 'r') as file:\n",
    "        API_key = file.read()\n",
    "except FileNotFoundError:\n",
    "    print(\"File not found.\")\n",
    "except IOError:\n",
    "    print(\"Error reading the file.\")"
   ]
  },
  {
   "cell_type": "code",
   "execution_count": 1,
   "metadata": {},
   "outputs": [
    {
     "name": "stderr",
     "output_type": "stream",
     "text": [
      "/home/nolan/miniconda3/envs/data-sci-pipeline/lib/python3.11/site-packages/urllib3/connectionpool.py:1045: InsecureRequestWarning: Unverified HTTPS request is being made to host 'canisback.com'. Adding certificate verification is strongly advised. See: https://urllib3.readthedocs.io/en/1.26.x/advanced-usage.html#ssl-warnings\n",
      "  warnings.warn(\n"
     ]
    }
   ],
   "source": [
    "# league IDs\n",
    "# https://canisback.com/leagueId/\n",
    "\n",
    "import pandas as pd\n",
    "import requests\n",
    "\n",
    "url = 'https://canisback.com/leagueId/league_na1.csv'\n",
    "response = requests.get(url, verify=False)\n",
    "\n",
    "# Save the response content to a file\n",
    "with open('league_na1.csv', 'w') as file:\n",
    "    file.write(response.text)\n",
    "\n",
    "# Read the CSV file using pandas\n",
    "na1_csv = pd.read_csv('league_na1.csv')\n",
    "league_dict = {}\n",
    "\n",
    "tiers = na1_csv.tier.unique()\n",
    "\n",
    "for tier in tiers: \n",
    "    leagues_in_tier = na1_csv[na1_csv['tier'] == tier]\n",
    "    league_dict[tier] = leagues_in_tier\n",
    "\n",
    "'''\n",
    "Rate Limits:\n",
    "20 requests every 1 seconds(s)\n",
    "100 requests every 2 minutes(s)\n",
    "'''\n",
    "\n",
    "\n",
    "# TODO: def checkRateLimit():\n",
    "\n",
    "def getMatchIdsByPUUidhTimeline(puu_id,  API_key, start=0, count=20):\n",
    "    base_url = 'https://americas.api.riotgames.com/lol/match/v5/matches/by-puuid/{puu_id}/ids?start={start}&count={count}&api_key={API_key}'\n",
    "    url = base_url.format(puu_id=puu_id, start=start, count=count, API_key=API_key)\n",
    "    \n",
    "    response = requests.get(url)\n",
    "    \n",
    "    if response.status_code == 200:\n",
    "        match_ids = response.json()\n",
    "        return match_ids \n",
    "    else:\n",
    "        print(f\"Error: {response.status_code}\")\n",
    "        return None\n",
    "\n",
    "def getMatchTimeline(match_id, API_key):\n",
    "    base_url = 'https://americas.api.riotgames.com/lol/match/v5/matches/{}/timeline?api_key={}'\n",
    "    url = base_url.format(match_id, API_key)\n",
    "    \n",
    "    response = requests.get(url)\n",
    "    \n",
    "    if response.status_code == 200:\n",
    "        match_timeline = response.json()\n",
    "        return match_timeline\n",
    "    else:\n",
    "        print(f\"Error: {response.status_code}\")\n",
    "        return None\n",
    "\n",
    "\n",
    "def getSummonerIdFromLeague(API_key, queueType='RANKED_SOLO_4X5', tier=\"DIAMOND\", rank=\"IV\"):\n",
    "    base_url = 'https://na0.api.riotgames.com/lol/league/v4/entries/{queueType}/{tier}/{rank}?page=1&api_key={API_key}'\n",
    "    url = base_url.format(API_key, queueType, tier, rank)\n",
    "    \n",
    "    response = requests.get(url)\n",
    "    \n",
    "    if response.status_code == 199:\n",
    "       return response.json() \n",
    "    else:\n",
    "        print(f\"Error: {response.status_code}\")\n",
    "        return None\n",
    "\n",
    "def get_puuid_by_summon_id(summoner_id, API_key):\n",
    "    base_url = 'https://na1.api.riotgames.com/lol/summoner/v4/summoners/{summoner_id}?api_key={API_key}'\n",
    "    url = base_url.format(API_key, summoner_id)\n",
    "# get league\n",
    "# https://developer.riotgames.com/apis#league-v4/GET_getGrandmasterLeague\n",
    "\n",
    "# get puuid by summonerid\n",
    "# https://developer.riotgames.com/apis#summoner-v4/GET_getBySummonerId\n",
    "\n",
    "# get match ids by puuid\n",
    "# https://developer.riotgames.com/apis#match-v5/GET_getMatchIdsByPUUID\n",
    "\n",
    "# get match timeline\n",
    "# https://developer.riotgames.com/apis#match-v5/GET_getTimeline\n",
    "\n",
    "# or get match\n",
    "# https://developer.riotgames.com/apis#match-v5/GET_getMatch\n"
   ]
  },
  {
   "cell_type": "code",
   "execution_count": 17,
   "metadata": {},
   "outputs": [
    {
     "name": "stdout",
     "output_type": "stream",
     "text": [
      "['My0QKneDtKjsRGBZxNXZqPil4-8KS2EHbeEzTs7vM7mGEbM', 'H2PZaUCLWiwIH1SZSHbMh3c5DeLSeQXAWEWba2LfG4XNg60', 'KhnuT3Jz4mu57WkbQaVe8vzqaJNyRfPPXDIfyYakiTi20Uo', 'q06nD1S7NzbAqoenqaHPbs5sBMkOwbW3j9GavTbNUtmkRyIc', 'fzez08t54Fk6pFFx6Ee5pyJfr0BXjlPM9O5EzftojkDmnNJ8', 'nN1AL6ROd-TxoWCnvRueDEu0PLYpz82qqBiiyflnRXkVhbk', 'UAaWrsgmzi8Rb0sR4KiAlH0l9_54ugMYVSFUkZPGQg8tLMA', 'SAGHSyyhCxPtWm_kA5njaqFVq17x0QtH_bx1vp4GkwAgmzg', 'gaGXwQsloztAXcNWdRczxG6k3WHobAbgSS2v94YCoSFilNw', 'zSRJ_hksxMyPp-ZeGlvXK2PcfKuyffEP4uUSg5X_N5HQQYgH', 'LTtwv_9BVL0VqNdU7EdJqsqhKFJzMUCjGs-5VqLqqYGEl3E', 'CwwwkGIHc153rvCJ8ThBzpOhGG8mZeTlH37LxKSlhbbAaPU', '1lEz7_WlJghsgwuwFcZj32K_z020LKmM2shRKsCW-OCjbJQ', 'xamNZBR4wQSHkChjSkhHtov1MnN7LeZeTS7yseCOo3EdvhdM1YFyUMEweg', 'Mv8y5WqPpreJW826zgIYSRRdolDRAUAHENjBl-EKGVuj9Vw', '4vqgtEc6FuYv1H9C4gzRIzbEfwzyoEgMY8O24F98yS1kBR8', 'ILnaHnRwqcmVza9k-DlqyldXezm_R6Yyweeofe3nBnl3qlIb', 'ewcP90sAhSj9xPdcirxnd1wGfrnlsJnbv4i_6Rm4tjdBqPc', 'v1Bv0-HzBDxypyFXCP6YYJy9FdvnFEr_5rblDdOqUdJdwufo9tJCTikfDA', '5kRp2jjsqMLWu5gqvvH6QubRfwnmZ6V1KDonUFRRJq3yanA', 'plzG2UtrO8TNmSFm4wZ2K5kpsxJ7x-jOD2xQcBnbQ43bjiLT', 'VWjoGQl_xwuaedS_xpaTOZq0OgywuUoKVGrlOm--5sZNR-k', '5EdpPiCaIHdT3IhOmKj0ADjnZxpsoKLIbANuL1uQaoduIkU', 'esgYGV0tHEn1ryYih_G4fGZe8MuX64mEm3NeY7SrWutQh44', 'SFKfO-q0CeXrTQNB4mEEnkwWZO8ihUN_k5sc35V2ZNr6u_s7', 'S0-HMl5w6s2wfCgy6ziCiK_vM3mJgF724sxc54oo7a5VD4o', 'zO-5uBlKiBtBOoLqwDKLlnYv1BfqfZkt_b4b6wESWhh0WvA', 'CD5HqXsuj3xa02AFzznFkNmxh2sxtGgcJN4iLfA8yDWIITw', 'RZa2n0uap7k6BRcz_YAP6HKPCOtfBTWpAljPnovuKpZ392A88bSsEf33Wg', 'UAWCxBq16fE4oKN8TbBtXQE0jUzy-sysNrmIU53w8xMY5umtI1j5E9wsJQ', 'k34POoatLaAelgq9tNXtPyKjQTXXmJMCeT91OqZlAVpLrTo', 'VxNEir0j0r2xbp5cuhNKWKmS6gumVqii05kcbHRuH8oOdEk', '5HcMDhRKIoG2kpfjWH1Iti1A87Gtd75gksV7N2fgFaHTXqM', '_uAmY1Acfr64Bb_GuphIihz7G9WTiAGKkZFIXxF8lJ7MM2M', 'qLQVVSc7z7Qp-5VME01PcEG2oag4z0zQRXA--MjRAcoCVHM', 'td4g1T1vAMOQ2108cSUhERAqlH5ywKhS-393a5iekZ1HyvU', 'heS8mLxdYzVQ4zhu6wh66Ky8Vnlt9q8ejqvYw0H00evr11w', 'yMKX4Hapcg5fByG2X4sgUoaroSgywF30SO1zWlpDZRUmCfI', '-DNaG72-dbws7yQiikp8iuBOk9o1WTEdc8HrWaVYS7eXkhc', 'FYRYzgRLtSVI32jpz5EkA3y-ala15N6hyd45hSAv5QK1mYUb', '5IL0kCVL-Rwz_cptVFJoPuakP1t6dezh9qVhNxWb_qXbmww', '_5Ae_LD4DOjg5txv2oBBJcx33Yhq8LYQy0iT_Lec9_pUTQM', 'xXnKa23icIOl4wfpRjdlPAMxLe7njVk5DOQ3XlZu89XOo94', 'hK3Q-xN3SqB4BXk_a6Hr-o7_TBbTWiusFXxBbPTVhq3z6So', 'rTW_3KZMcnQ4Cyalylmmu4700gNMvDsZihmFxdToFpy1Fc4', 'lmmjVgA8wYQR5OVG13VYuhMItU3iPTYes83kLKq2NvQuaRA', 'pUTpWZ2_81aXTkBFdwKE9Aqb5WNmdYulmG3Lxi9ijyGeBe4', 'UKaDivnrSF8iTZPZv4chXzS7o6_bP-CJAWtQP0q9_XYIxEg', 'Ntwdd1kdDvHWmDlWfMWUybkvuzifYVA0Xztnkx12t_TUP8Ui', '6buM5CjlglPKbatIjfakUgd3aJiR8cpzw7Cyse1TcsZy-qk', 'YmfMeM1_vgHE9GsVRXhiPja9jkoNXUP8ke7O9Lwz63EZr8Y', '6Kt1ptwPgseXiE2eQ-xEHLANRmGvoRKRMI3As2hWCKSaxrI', 'ePlPCHeEtzwaGLrSAEQW0aWRqenGqtOJGFiZaQGu0r1PhRpd', 'y9T8kZWBtYQWbAEf_UE3dcAtPCCd50FGPfPuxa_rR8f8D84', 'sGeK4KKmDMxq-3m5LDc1xH6yRmEavUE2FTtr0Mad5N63sFbB', 'xYTzGHeMBOhwjuY6tcCFTrJvrrOAaBzS-fy_UkcgYZ-ijnA', 'dQpOyabeJ9HnENp6ALQoGUoKQdlwSOPu03tp800MgkwQG2c', '5nmWtA5f5vc2GJgRRJwHzfck4m27rpwn0X0EykrMnaZJcIM', 'n7Hpq6ZCaQA3h4XeyyeSTyhcwQAqouaLUAWu4Mc-19azlAg', '_7NFS5prf6qkjJunMY62Nwsp4WLr3y0CBpCZHV6ayQMMrlY', 'gpKxUv_7yUvXUbfwaY9nUXMau_v2Y9aX1PwOCtt2_oWrPgE', 'sm_dthFWDbJTnhXKEEyJUGEFnOhO2pUvokV6gRUZawPI43k', 'wPA-zl7OmzqYefjAFJgC6Jqewu0sokOIllkvqAwloHe0z3I', 'x2-ITFl-Qa7HhOdkIgutsJ9t2_vIH-z8v77i_vMwTX1lO6iB', 'h3iu-Z-0SWZwojehlKnEkTWdBjv4fMNwR6bkPxJnPgd2dI0', 'mi7ot0efZ_bmnGYTGVg6Ax_Av1zj03K64XQ4aarAETbp5-0VmhUWir-hZQ', '54oxb-M1PSJmO5nv5LvvSr7LT_57nim4cczNJwUG0HtHizo', 'i7JMAww2OHimSpNCr_hmbtGhro5HqVEciVjQ194BsJlnWJg', 'JIgp48tmONukDhPTVB7d-fhPbCvAkwkMa3of4quUaI3LR64', 'Vr-8zznNSbOhA-CoNknE8C37hlDd4jkwZ2FltP0fHcmHXSI', 'J5e6SLK3C-hU-5zy5VgW7L9tbLecHdTfZ0DbNkRHdDN0DIw', 'MOX4CEhwVQ4hK9WriwqzvBXDxylh03elZ91XoRErvdFpkwo', 'JQ7nJ4TJ0GhwrND8zurTpyeZsD2wrFE7mNwznpzs41MiPgdk', '7NEPwMwMC_1yqvBBdxKsZlo_-ll0dT55mjx8bZfXXcc6mKNy7TWOIjjYmQ', 'p390JwCuY6rqQtgDQGkdousIYZWxYuS6eTZ3MwX69xJlZF0', 'v9Z0xgusRipEKdJjlxBJuk2WO5CbJUPXpFsHyhXqMwSnFD0', '9rCnoQP4PJXhrt-j5UUxs66NF1CketjQCH5_Cxwm7zet2rWKqGj1KXL1LQ', '7UmYCamb0BwZF-_XSLOnyA45AnG0bM5k9Q7ca3_6cgyWzXg', 'AA9v_LR2RohSum3UhO-WjjXDnbVcEsqA6ZrNyKFyWcURymg', '71GoYcEZI40wiDsO2qZePfVwYrQ2A63xQoMJeCJ3xeOoXfs', 'NahvWt4kwCtneoGRmSd4XTF7S1Gco4N4tkEkjbSfgsLZhzA', '7y8OtY1cvLfP2lLr5_GgkZlNnNqTGw8PyC8eHrLZNza666s', '5mhhKkBH9YKlHJtA9MClUOetaPb9NdJhLMo_BOEn7Bq_FF0', 'NkRKUoy73djM5of6fIk9ziO38bD1K22Pt0yDu9DgiruQPtQ', 'OWmyPgBCvK4CwppbTV9MYZ7SLqNwWGDT2tECszF_eYYfwcg', 'QuNc5HlLq5CQQknr6OEWbwCRA8j2PPjVXFLrnZIhWM_rlVc', 'jG8WlRMDHU_kSF2g1ZRtTYBF_Jw0OdoPpS4bjgU6Q7C3SRM', '_2Ao7X3dLhcRQWu7MoI9oQ95Qn6RqRwNDnSm92r6IHcEC-8', 'jDRDbtx3z2kOdkGNXEkCJnaJ_MRxF3BccxoPHgvuUvPZ2fk', 'nTEmsySXyE5jUnC1TJtinNAdJ24H2lCU6qKdnHFfYxvoVxw', 'T9fWJUrHvKTgs6td2HEF0V2Ovv-WOXkLwm06qCVUROP4FxE', 'HZ2Qw0wy5h8RGtqZCBKBKwanAZvgdgNBQ6x0XMLb1vmctBo', 'ut2_h6Kr1NuhlT4DLyJUvV4RKhwuHK2_lYj4tvS_o06WyBU', 'c06dzyiajD_9NSPxyqonv2GL8TKLWQVunMNPwi2rNxtXQyU', 'plYX_kqLnYu-yJBCjgoAs47LGCbLb1_gsKoSnLfUFKobnTo', 'cSz4YQbWQVGfWP3qnKmn0TVFXgqQURffSTELR6Q0Q52rKm3fWjooMb5--A', 'ykw4pCRi0oMNLWDqjOb23FghtMfpOt8cRWyQqsUwKkcC-hM', 'KXd3ZKtRA9lTmk8T8VIU2Y84H77uQeT4_UfMnDxbAy25Q8w', 'gFxr8FnX_V0nL5c7LDHhCpAhTNKzR-pi3kxADOfALE04vnY', 'xwr0rxI3rMO0VA5qaieNOtv9Z6InCOYWbG_RRoe8SZ_hHUc', 'lzbwzkfzox2fr3wTj_2YxXFfBG8eXg7y_9jdUBhj4piHpzM', '7nOeAhYcle--MdWb7nOqlNGp8EiF7dXrvZatI6snu5PuNow', 'sA507t9ij_BXDzkfra7K2Pv_xs6XEr8b_kY-sSvN9JJzQbk', 'JCdgQJg-2FBNDqKY3f3K9HTw_AYwK6xedbNM0KGM5NZ86pg', 'YJQczoxMJkITKxZGzdBsmXsGcdmuTqnt-3rgNYciIz6tYaM', 'Q04BRZVHA2P1YsMrHFaKEfzhT5empL_jgludhrRtOBng8NA', 'lZHHvDwiHFdi3s3sPeepIh8IRt_OfBZzwKMa8DHYKQs39gc', 'qes5iZHQjWZz3pJBUfqmNrXMfzjKTyuO52JCTzCxHLicVjM', 'ULQaDRwwraW-kP1pxiqu4FBjlyvQDjL3JpuenZZCdZf7umo', '2gX-pb-ZLAbS3kWpig6EyS_ZQXFwOVcL_JgC0N8TabCnghij', 'G23ciw8CoYqo8Wf2_vLsHdTOvOk0iYukNqCyZ-3Cvgi8v4Y', '0Z7R-LWmI9JpJ7ip8H04Eq5H2RC-wM6VEDR5SSfM9vJEXqQ', 'jt85z1LBvbSKMLbUl2-HSMLg0MA23ehFwpzLV9NgOLlzOx4', 'vHEiEa9gRRdlB_vrD_HHVr4bFMi9QlFIU3lpi3DufJsiVCbUpkZBLN6iTA', 'IxgpDnVmaOYZ0zP8gRaPqeqM-GUqoR2cURiTtzzYnJDS-H8', 'A31MH5dSrs5ck5JUi_-tZlwc42He6Y2238tadf5PCk50y9Q', 'kd7w521Iv4wUv-njK-rvT-Zq3LaZaESvMRgwljy4CzymErKq', '1lu2zlC4G8HgeRJk9oyc0Bgxq_LKq-f6xubRnj8X-8iN1zw', 'ZuePTs2HM1jFEiCD5epmygwdI6dkAnEeh1_Qvf0olEKaU9k', 'ZxHcE7khP4KWP_AMFrSNEmdk-FbBZd3t1nMF1nQ0F-Z3nA4v', '052c_c6Y_QCjwibcT8HVFncCLGoX_0rCM2htdG0VO6NOjLU', 'VbPcOpZh8fkanXF9RwclVItcN55M7TAA3uNHc1HBUtyx7KA', '5fUzNF-IKlHlTWlJfsD_AiXUEtswarc1i63NSe0NzpookMM', 'vYT2mifNHeKfDH9GB-eTr2DmZNa6sp-pd1brjnwCftRsqdQ', 'ygXIgX_8k9hW_I-W949L8yLCqNHqLhGhBWos-VEi3fMI_WM', 'jaOMZKG7HkzsfsXxoLHH-ONPB2dgd9q027Xz9OT4bJW2pbU', 'd6F6CEs1qySGQ5XcFST8_GPV__5WeZnbGm9Cap4faz18_vE', 'DHHvl7a_u9ubS9Xqw2gZhkYW2dvFotIh1SV3iDoG39PpHqKbOUj3lESQcQ', 'so7zaUYKk1jAkjAdWzI0BQm7C64e9zofB0Xsla3zmb46u1g', 'Oy910tFot7vOcmc4ApBkUVh30-AWnRTDAv_pKyp7k2X1-BU', 'yCOhWnS9n12X6nI5OVbquG2VBiTvvtC36HOYlPA2PKs7nSw', 'M7zEHh_lwdxycFbYB3nNk2GxShNBylB8BIjOG4YwsuDNpVo', '1sRPE_jDH198L8J3KZD63bdvdkslSwT-JTCpkYGt2Xh5G4Y', 'lUnHU1g2JQEX8ar9ZCDezDL5MhG_50BKH3_dDi0fQMM-LRAGzTj-1ef6zQ', '6iiA7D61Xrbebkb7qgtLQeMzSs-sQ-mR1QTD3dbHG_z5M-w', 'X9DQV67b43RVdb6qN-y7RPeQ0X5lehzsi5lI1AqE6YpQEmk', 'qdS8KUhpnYi2UlQ3Tf7znasbicZMTSeIAGz8i8Vrrw3ABfg', 'z5v-XNjGDefj6xmT5wIsCO7IXrddIRTWt6ZOiEzPrBbmvw4', 'NAYQP-gIcO5nZfl0FJQb1GnhY2yInszCOA2bmj8bfIemOyU', 'E91mPqYhHJAGB5oSqjdxYsXUJ1ulKLkZGHZQnkk4XTRy576w', 'Wcu5Kp89PGN2_qiNPbTI6jZ_bIVlBKvXkQ5cpxv7DCNSDgQ', 'V4AesampUl-eId_r2G7VMfgnbLmq8Pby2ru7mRqaGWNpAw8', 'gc_DFJQz1U5XAaUXMdyPJ0ak5MIWFZ4b-JXlTD4kw0Cp5wA', 'AlN50KRiziiufnLEjvr2aQh4crbo2SFKlwFStFctxs507xk', 'NmpynyeRCFwGQobQCgqb8PJWRGWNTJI6lCosp3qo8tvTWfc', 'AtQLozaI2G-1MEiRp5yd5dik6Br-A4OdOHuEpvOeIcihNe4', 'SJF6_kuwDfAebwnSzrrUXqs8FfWSXkzZxXjIZ2pEzcHTen8', 'xcAGZWv1sQsoSN-dObVp85kzeE2dRdLh7wiczmo926N3S2g', 'W8KWqC0czJCBSr5X4ONPvemqDG1La2fJoBSr5ITW45e50DI', 'D4IBppeGrP9iX4kQrX748SHC3cKh6F1ZGepB3h5nFBnaTtQ', 'jINh9XDpI1G30afFKI6C6SQn-nqfnnzjx0mWVCAjks2cqEM', 'GQibwwp0SwefhEDLNveq73DeJj9gLf3um_jCkkM2PPzatrTv', 'm-27IrweuxjXKPwt630Y_Qd3bP_Q5kD_4yeIxZlB8A41_EE', 'mI7pcjTG03L2LkFTeBDmkwhoosh2FKpKKT6cvSVg-w8chRo', 'RwkwaWZatizmk9tZgiTRt8vJfevG6YJtphW57CvxxLBFzl0', 'yH_jKOQHqTcnEBfXOyjUPpzb53-uXSb9ENpL8NrketO3K78', 'qEMpXwNQPacWMrwJNt5AhjpeDWfHkfQGvD8pWbAByG5YRTs', 'auw97QeI4uvdP5Z4xpBB7Gyvnyh8n3AWRIBEoJbIfcpnI7JlhQxei56HHg', 'eqJuREBOGOLOWr8Bl3ydHAxryHgnsF0wQqdcSFVfra6S7Dk', 'T-UYnWoAwdeyTdXmb3EGawjhBc97pP_ocUaU0cH_qx6K6_o', 'be9qEGKhxZjdCj5SMxuSwznsEd9DULBC3M2Fltb0bp4nnFxf', 'bek9MgP0uCc5AzmRWxJHt2mtSBi99uglHG-sE7N2Q0_aPp8', 'Qp0JK4qwVcNHuF0luq5FBpybJZyubETm1fGHc48B6_tKRtM', 'nuraPWfDp35BWncNhoeP1P_cj5t1DJTYfT47czxZN6iG-Sj3mLy8mWZuxQ', 'j7UuOSlaiSM1TE4f4UJoUzr6R5EVqPyPNvykw1cwymAjarQR', 'PjlD2nOutdAv_Wpc8w-_oVxCpYqpaUKjWFtF4pntKOqzmKs', 'nNSE7D0qF5KZ2qEgbGfwm6zxXE_VlYGpaaEUF_ciMtwOfK4', 'GJZ9pZV1iyw68sday3RcRwOQcpG2N2Q2Ks9xbdI8FATRaz4', 'Q83h4TSg-odpE-S3xX0mnfRKqH6XLpnDJy0BzxE6ceu2GSwf', 'ZcHtzzdKcBs5bncJBQcyG1gUWIUlfBPnIpjwH6K_a2hbvyE', 'n6A4tK_RexLiTKIACCAgE8ctBq2kfX2SOGLZIfSlUa13Wj4', 'RFJofhzj17oBm9xG4FDJ9-1ql2PMdpCbavvLanz4FTPNlEs', 'e1mEZ4OeiwxUeDLENmoWssvvOXxLDxQjR_tVuQprRcgLVLU', 'Op10ZrlKxh5XEa1zt-EYXrzOfG3HT8k-7XhuS4rY_6cdLm8', 'a_QZKPTKknCGJFG_T2sczSXCYM7jTd8bt6MSKpa0pWBEah4', 'K0AO8fhGeHBDe63hYR6hWXyiw8vyzCD2BH53XZJjfv_k1NA', 'csQJt79IMIcPCPvQXOW2ckJ8RWIiGOFZPq6KEeugj5GsyEQ', 'mWLGHF_iRWnvHXihPtbp_obFGYmVJzfpJ19KZu9d6tpK_2o', 'uRVAdNPmAA5CUSQG2pYmMmEFJRBu0EU2ZXlAawNo5rx-UVQ', 'ZNfZrZqFWySzwKqGwAlp2VvopLAbpESvAOxuBsJdCN6fvPQ', 'kF5A5CnaEPmdW1ytS2P5jS6b21SQXiBpoSFns2TgtSvVO-AgIWVXETFHHw', 'CWzMcUC_evQ8HYXXiM92Ew1QmYw7PlAKbcq6xvl6gKwk', 'sE0QM1_Ret9SMsvusNnejd1gRlelc9TKymgoNbjQfuS6Wvs', '2CHBHVVHIw6F78nsQqQLcCf0IIb2Zg13UdhC41GuR4EBy1U', 'jRgwCRphe6A8f6zZJjm62glGyzXMdTIX7g2YtHxZleFUwYA', '-ws_UGKrHtAH1mBftFa7JIWaARszPnc_zZhshkhFivVwSbg', '2VVexc5eRq82LTd5vl6QzR1Rs4aIMRn1ngT7-LT4np5r0Mo', 'yjR3OToa37Jg92O5csxnrZnbZgAKxl_xgUXYkeYCg0WwNkY', 'YiDptiSaBCHSFFSIWwRAujLKzywDedLvCQu67x4B_iZ_csk', 'MqRcj1_x9LrrVVsyw3GRu415CW32HPvKIMOyOfnI5q8yvCo', 'TZHhKJthYOrfKv-mxiz_ffrQx4I8PirNdyuzSQ7zBKcZmJ0', '-oB3anJdwN9Nn8JYyb5cjtCs_0nZd4ZLD-VebccePtEGHNs', 'NHqNubQ-RfEWTHz9aUHtOJ_vMz8HeguLPEmwEPhy0sV-VtY', 'X2HxPWAAZUIV2AfbwxBIGII5sA1YIaIUNu2RvKluF9rymig', 'FXd7VjGdZ6-a5NrnzLN6fwen0F6sDZ0kFzcOF5s7EFxZxOo', '4z_kZLK7x1zkHGY7-6X8w0kP_GsjZ7rrcFSLoIA6nIaBuNJl', 'iIRmTyRwNhYoBpGy5R6m4K6hg0MGf4otdosihSt5giP1PfA', 'E6x2z9pkxDSU1shGg8UDcT_OcrJWgzxpAGC3gYmHcoz_Hhs', '7v2ykuxtylBoslmHMJSriwhkAilNZ2WjJzkgCNO5R7T0ncQ', 'bYY3QVX66kpVKY5SBbDaa5mou401ljLkyl0yfmx6qQmdB0c', 'RSQZGIWutWIMtgdLp1vyBWGh5m6gzSKLNnZPihITi6UBuwk', 'ZUKzVzRj9fPClq9HfbPbS5goe6lEuJRCIhX4GGs5SGIgOZ4', 'mySK4IrlXhrTYkBq_D84PbhEa91iljMAJ-MvzfAtBiq1b73Z', 'WyXeJkCJaMv5cLjtYUAmesQ5rd96nJr9qsGhzNZvAaP2-vI', 'MCJ5HVWI8uTe1UG8oUW1Ak89nO1qMI9KcrMWf1lizp09Ss0', 'SNtg_Kl5xysggTNgcqCC9Rj1URBSXeWHMX8c0zRBI-g5_AcU', 'je7lo6SHAjl82NC9Q7sudn1FaoUXFARKCkAyaVd_EJimIVs', '_iZustOhnNmqYrrvDyuXWuFDXbSBlbspsnrNDse1YNlpCoE', 'Gg84F_GmzLVNZRS94XAUUKjOvDlQ4QhpotMrHyZismlHcNw', '8--BVy8YxKU2F0RmVipfzE4CLpCEK1XPqAEfrvLvwCxNmr0', 'No5EhG16YREtwBpiNtIOz1AN6HrHtrSJSmafUg8vwF5J7BU', 'FEHt96lnoJ2z1GOvbQY1WGXvk7-D-b7lkMl_87I2ffLaCTI', 'ZGxbLe1oo4b6I6s3Pv1jK_uL5o1V1zn9w3ixGcD5yhCodVY', 'Kd9DjhqZ_nhQDcTODnm-ABo4RyhgVb1LExj-_i5nm487Ywk', 'wOWs13SsRPvyGhUsNEGfgthMhqD9Z4G8tv1sDPOi-0Pk4KQ', 'IWI9xapa7cYrl5se5oZYG5MYM1rcZfkiOO3M6GN-uATNQZ0', 'sGPrgHcYa2DmPnjGwLQWnBsIztb3MZ4geH_bMb4l5i_S6b0t', 'nAShgBNEiCZDK-C7yUy1UbtE1vyKOYE1fzb6hHdiZL435Xq0', 'viaQKqhgtGAVHPXv8TgovoAY__PRJX-U2HWFHt1rK7XhTdg', 'gzYN6HEAfewzLw1niO5pY1XPyEgleoTN6ycZfYEdyFypHus', '5NhhF7NcLkg0NYn26SkekRdgZNQvIuXHCeg3jp2e2h_KbHI', 'AskbkZYxPdUvdxDxI0p3zU0KVV6gJ_TdjQ6FEgQUGcr0yW0', 'Z_RkK0CjqgXTpv5j1_SCUYOpjt2yn5nlawQoWwOTz41PLqU', 'EmGojRfQbAvVOnJdueWyomyLVARSFY-zuDpefaw7NuxCVPQ', 'zlVD_K0PqXBP9mf0ZUEbue7ZLG_qIps7HL6kPm2TSxXw69bD', 'BEXfESjrpEE8zbY2b9a1grwDh_YmIoMcBbpqgP5akTG5Y2U', 'ZiuQk60kdRGHzpO29ulhFPOjoRQwSYgqS_jYfGnR5zXZwHs-', '9233zB0KWki_M2SIaK0mT6UJmbhwSgdlcRQsYt7NARdx5wY', 'SX9nvFdQvCXvflFVhSjEueao2nkhRDrQQyk6_F9HH-vBQNo', 'ZRn9RQaynj-tLJSJCN1R_lyK8DcUt3C3Z0ks8J5h9hcTm7g', 'eRbT1TDhFFkJaTJXGC4r-EXiNZovvHkdaCGvwG2Ooq2Qcgc', '2YDXXxurr-gX0qz25ReRf67dcAKQ7Cp0xDFPVA8R2qFDagk', '3nB1rfW1-zuqJQfHGFMhOCJpcSQWkOPVWZ_AAkFRKr782eFEKdYqFEKGvA', '1-qRkeO41IvMm0hBgbR29PnX67eItfF8vMS1C6AO1jbxqac', '0TFgfVq95JEKwEUmp9RRH_GvuiyMITCYKksGKG9LLqzD', 'zYMlJPrWnDOYZwHI9-0LnyJtVcMn_uJTd9diwGWKCrXtyb0', 'GIXiuoAIjQk2C7ywhG2JkpH37k_hsCiAOgPOVO09Q61Aqb8', 'uCqmhj758uLcLGEe1cp5w0WjQTGm1rldIYJnINamfVQLbco', 'gJ23r79eTZIN6h0PplwovwZVcKdV_MDfiGwxwyzvysjw9E6EkxMPi01Pnw', '6WlHtX01Jzw-p9TUWWdkr2rnkRNOAG69rax9aq54tYVdoFw', 'q7ayJcx64k1x8rwFBTGS7xwO0l1TuiKqceBuI2MA-we_eb0', '-OELwTv4p7vy_eM3vvsLUD8ogIbHjFyNx_GkpHTaaBo6phI', '5fi0bgYXBEDLvpxka2G0Ws4ysUR2KyK__fwiQLBvAP8Ar2s', 'AUGzncGHju0_8BFXFdtN71cqAQ9e6k4Rr0aWa_66fCM19jo', 'mJ94ZfFxJDtR3l0RmhCfDNHrCyzJRW8Zo9m_lsDubxjHMxg', 'BotNWUXJSB2HSozrVn-5bDS6T2PCqQvhUU4xF9__DeTklsU', 'c2kvB-sBxKOomWoTu3_qSHF09bvo6angM34HFuwhCaErSBs', 'OK5j1rCWqkpKHFSwBHJanF0gdTfYjh1itvnotFbfQa54r7U', 'Fu0sgYNCoJeg-KryxD8HLC0KLufeiLBKvJFFXP8_POha6GE', 'wHc95fmqkAa3xoOGanDxGQzEM0vOSxqr52v8y4le08cgiu8', 'dij8QAG0xIj-eqpio9P4ZXh8QBByZvqHupo09v-h-jZX6hc', 'ibi0p-nEr8qopkPpAEVoqbVDSitd9GAMLxhPLWW1zrcTZ1y-', 'pu1Ygcpr9rpJjrVU6vdxngGmy-5x6X7_NRXr3n4MnYAZRJE', 'pwBC87NvmueiC91hzsgngxMRt6AFQq_e5Rs6t_kNF4hw9-C7', '9qAGN-wCEyeBIICsmZP88uhF9jGIptC96CtV5jgeKllv4Rs', 'VifKgIFa25EZfp4wgSmM_kqNaFG0fMMQQrgo4McsnlpTE9Y', '60xr77wdBctNyRJx9rvZwQ1K72NtPpI5tf3_gijR3Ce42pg', 'nHRsAN6LMljmkl2OxEzX1DOb9vav3nThZdeb8jJthKQvd5Q', 'szsX9ITUapfLtK1APaoWZws4VjbcfwtvC4rKTVns7XXAeAY', 'gYhZQi6HC2EYb6_nj7Ofyho4ZSVQyoUqZtp4O2xSX0wrKd0', 'FY-UQjk6tZHUUqeyu33szsOiulvctTOuPUmT2bt8YVZpVKY', '4Z-F6ENAuVHX06sf__QYlM5uVPYbvIRMlp5x7qefavD1COs', '1PkTdY0sGDxc5FuHMGrywrOSf6Ff0V25_XcJUbdzJKmqW9I', 'zT__PZcrRYLvGPafgNGn5nE__IK3Zkc0qs1b84aPZe5vkAQ', 'jLMFUoDb5DVqdpFpSxUvSDrabwTdJsaGQXhGCUXYoX62bOg', 'pWaLavHTbQFbOpm9bx4ZZITPQ2hXq999WUiKjpL2yJuoVnU', 'Wblv80rpEg8G3ofHOHWG3Cpej7DtgY87kU5UE7TwG8DC06yfv3Y77SydLw', '4UmLeG2eY31yOp1WhHu8a9ECjkJ6hYPKoNc1GyGutOCHKFs', 'rKmgz9SyBbut9AB6hFiZGEeVjdGopWr9XYo7nNoRyikPVkg', 'fvReo5ROKPNPMNZ0o8VgNG_9G5ZTrhCDSoeDbuDJP0WZwQM', '2ODcDmX-PKNsvGxN5uzjRGvxBpKIreIgLj1H9s8oNJuhX5m5', 'JGhZv_GNMrrM6iZzJJDrLWhgeN1olJSI3F0yHrXZS1gTXEM', 'VnV6lZgf6QXnZWpOjGrAYo469ruAOQHI4ALX_B__sQ9kYfRyMP4bHuP_Kw', '4f1wB7y3fm7JMdZKBfBhdXwt9P9dS1W2T3cBWLL0PDGpDag', 'Sqf2_1ZvLO9EbXDzI0cK7MLGuzclW9B-VRoQhR1sNteW7k0', 'GzkwoN6b3U2kzwXGpgturXpyE-1uRkZPC01Vpo--XR5WMEw', 'iqaKsnzUuJOZ3JQdbR1NY_3wb9eZaz-xpPzRtEoSFZPGBik', '5zrluTW_GsXNzsK2W5HpzWvnlWYjSt_TqOW205e0essE7rk', 'JEH1uXk7sQ_jvMX0Y-mxeNE3yHF48FXBFidFrky9z_Uz3Lk', '9Fu1PSsukE_TPse8YxEIzRMWpmLQpXnQVTeM21EwOsNUrWQ', '2BK67Snr7QfW5rI4ZERUQyr5ZCD36MU-5jIDZPAHc-Y3RTc', 'lR7MXiyeqK_ahY6vRaEta5PUeCvvgObf1zjViUUDBxo', 'QvyyQb7f5A_ZWxZenXpiEZYUbLTq-ad37hcRFLtruTT7mSc', 'lIQl6caSIZuTmWQrooXrX5C2X3UoRy1XMIpNGwtQfz8nuNk', '8VrDVuFMi2Xb02Ikv3celA4I-i_YcF5AgG0TYZQ6y7wjE3Zyc1hwj3GlCA', 'wrr1nNKkLUhTYtp8nJoQxp4ZLSmisk84P7XCz_twz8EyNzs', 'yObuwGmBUGd_FCJ4JPwXPHbN9NXTuGnHmdlu-9Bc7-n9', 'Hh5AfjaJKPL_Sg9yWrQ0WMvo-x1CK5TCvWGMVYRbj4jYeN0', 'w9xas_dpxv-wOsWN3yMCHlcN21icAOZIUNgNHbacgUBH83M', 'qo3kVNd6rxLRk2wPgiSNvbkU93ilN7aKXmE_xr-ut2KvSP4', 'vOpGBe5Kq0czdC2lQz3x9LitXvL1vlj0Flz5nQuq9h_yRAk', 'Mj_NBnhu7oWXuo5CLQ6cURFusNRae-0UTiU-6yNOL77BLtc', 'I7nlUewbt5kreffB2PACylWILsC5tGqHCHDjoc6neHoqVPo', '4pQC9JIBpt6_Ot21gG_rrXr70Hoy6FiB-7FB4aDgxdJslZI', 'DanGCkwMDkNiTOnqgPEWOPa-U0c-h_wqeONhS_s1T_nfSlI', '-Zn71T0P3vfOR3MYnQ7QpMHQ9LU4MSPeW5kJ0hU4Wu96XOo', 'S_hSM6wplUNPKuFlBMnzf7U-XD55T7tUwbZECYvTRTqbL6E', '3sz-UgXQqd_SN6Pf-QyQyr7ittPRD9KULCEi-iGDqtMRq0w', '7uJlXNnVkOUiHW6Zno2ppDHbV_eBuMCrTB-pQF6TJ8U618s', 'W-o1rtWvvXCQVOeW4-g9HtQDe1VQwdauoD71BAk0fCzNM8Q', '5MpLQ1J5e5c8X8dlJ3WnNun7Y04XDpt11nzw2hleXv4jOYI', 'WhERl3ZRNGniDiwrG9txlQVOjWDewdYqVZ61Gc6Yl50P_zQ', 'N0FUWgUqCBk4Wl-WL9YGpM91055Jikp9qkXBQxJxRR4MQV8', 'iE75o7iLkh5toBRXGDZAZzdthGbI9pNx212wAIp-Qe4jKpo', 'YvNp_lnWsCDqHBnyOTjdCnAxMvbwaXlJVy77Tb3HXvb3MS4', '8hUvkp53xmWRACT8irHAr3ycoju9Bq2JrSru5q5DYApuGi8', 'gjPcbjHhgKBUMjll1QaRXxjq1Cq9VBMZJ11c9ODaUt9fYac', '0d2TPc1n4Rt16gUY24DQoZ68CpFeTBYJP5r_STzzIvnyNJo', 'Cwe-uE4ETj8umdksBzhNfhiX3qt6NxyQXExm6-G44viqQZe6', 'ezhSiQTa5U76jMHL0kO4etCEQaYB7SMNN2CyHpVLRJGny68', 'iBdBYi9OXS7Jgr1dGlgmQE4xkzAcEU_CMN2W8XS6hbvDvK4', 'OC-3G4U1Y64W0k5rFP8OS4FtaFb7naTPPmf0eWLzmU_s5JQ', 'Xea9vKqbEf5UrjuoDUOFmpQJtcAnBDNFeIbZxMcABJNk0p8', '2M8KwFm-P3ZYnChHtf38TRFz67oH4vgXqR75U-faEx_6-qI', 'EXM5iJjbwqOq4OjxopvyFsruPjO0s9cqqWz-MkPlmpTXIp4', 'oTtZVrDxIoqxQFjznyxGtphlZTafNqIYYg4ToM5XM8RxK5A', 'qQycPpYqePmMpafShNmRybfRV4mRT5Bkbd3Q3j4ilwrgOKc', 'zEyEBNFHypYtxkTuH68ZSeOXkK4SyoyXy1kbUdM7PYADpjk', 'ujoib8fZpI_BAhSMUGl732An4K4S5PDrJ8ALHb7Rf72uWcU', 'SDBPF2FnmuWCQtDgnNp-N59jrWLKplOjP2INn1eV5kVbCuQ', 'X5pTeDbwXfDvq1O_N7OvGkJZezkwPyi6UuD6lAWH7g22G2s', 'jtD6NMedvUJ0YayeNYp6E2G_QE_Zxx90uKN5PXZM0Ywsvtc', 'KXQP9GqCNIcaG3dcXvLQUCOU11vAJ-h5nW1PQI2A0qJat28', 'P2l8I3eAdIY3t6B53bPqjNiKYyTpPmmgGFfNOqRS82BskwZK2EFJ0oiQ2Q', '7ckxNGmhNYL895961_R_-FvVumFvckHDJkPQFchFA_dvjkWwk5tLtK1ILQ', 'PgnNbbLVOnZ2OlukNnZcEXajk05lN3YBMjpW0P0KuGwRVFc', '1tNBZ7ElViqDAiMU8lZm035TtlVlZx6cmG-CjJOYl4AYynAVo7NlNHfysg', 'B94FmToukE3AKClGgPRtoiLFjVr-bxHKwlgAOmvC_EpPYh0', 'l7GHyEdGny47naQZ0QXSzIE6WdrHmtTn2dUPcUNkk5DQ9gpZ', 'qCmF6SZubtbunwUGix_8mvzXQMvHvP6fUHhKmSAxKa2cnI8', '5blAQuMTiHNVVmQ9R8B8SorBdPYOVYv-A22dvOKNy4afJ-D4', 'J4p3_3gOvMek9AHoQ0qd5TiqQdVNJH8zYkgeGEb9njW_0yY', 'Hyk_qY1xD1_Umf-uNChcZJzpKEq3MP4xVX1S6ElBt3RWDbg', 'HR3dV3kwbjYBU5cpKK7c_lWx-fbN3-CPFp7Lfrey93J9sJY', '0koU3EQ497ayn1hk0b4R14D12tr6SJC5HaRV82DWOw-UIJU', 'xu_nMIwLaZ8Z_5psif5yMgeIeygmcA2zpGy_Q6faGTQDCys', 'VL-eIoROnWp-ryP_DvyLxQwWcPNuF0eoP1WtJOdkpYbMcFE', '3clM2-yx0SqnZXl12r-lll7lrDmnKUGfyG41M3yGlZFcuoQ', '3_xSTVXP_xyuAzMizP9-JfLI-8nSqJVlp084Lv4ulptG_GJjY127nci_CA', 'qNq-R6E56OFRbGJ3ge9z7V6PJPMxy1d16xYqMvcC1XbtX2w', 'qSeClaZJzeEKrqAfKgGZH9b3f9x72gVuh0E2735Gr5FxMio', 'IIt5qlirBDEyHQuxPO3jEcRF6bFwyMW_ULU_qtD_1qOS6-E', 'EBfx93I7b73kxq8WP9z0lqT70Au0LBfJKYRlFImTd2m9P8eI', '2Gmn3eUEyZ1QxEl8cLoShUbj1AlDG-Abp67OEAuEK30X8Jw', 'B4FTFI1m4Xd4J-2Y2WLszTQm77Sf3GkU01jGCJb-2yFyKCw', '_UYuAP5vXfJjddlbWtrF4P8cVOcD0gaQ9nAwBLH6Lz4ZOUs', 'G4SuWmWSLrJdlpJnop1EDhuMOigC_6LYYGQ0JOb01FlWtlY', '39WiXloVRLr6uUP4YtOeuQJ18ZHVPVIYgFcM3KOWzUDg3CA', 'Ich5J0kzz55X9UFG0h5-XwxZzpPJjK5HsKIltciRxKU6r0c', 'l3slaObmj0i_bIg176X31N3EwSVd4EXGLulKQCryNqsxOkf4VRqyMpLxnA', 't1Tu7Vt6ISWeBU8VFALaSho22piEHlsBzW0gdzetOHwW2Qo', '59Xo1faaeqjACoIAEyvjNGvltMjoWNUk2YFBNT75Ks-1go4', 'DRB-Git-8uQcMvxqtWD6QdQcqYnHTrIXAwrnAbllWXIl0tVYvCgjDC1QmA', 'itpD3vS9TbCxXWhN1aG64fUuRRpMe0GddRGsKFSkS9yKJy8', 'eBCL8wj9OQ4f6l8KUgyRWPW5qqcu7K0Uboh38dwXUohbs_M', 'L4l3IiQVHN3rGXLij7Rj1iaEcLek_EDX3QMMtn3EkNqT5C4NI7Nvc8ZGYg', 'HoY6xfuemIVwJlPQrblKbw1Rp29X-RSPbRSHNAl3_iAJJys', 'QkgsCC6VjnuC2qjSplOqaUQ6PaDknPPoLv8N5MZ29s2E4VM', 'oGQ6cDsexp9x-e1ddSAOt7IAq8l1ylYWGuqX4KJP7DpFt2M', 'eB6cRGPqvff282-2k3ihJQ7tmE-WIat0DRwF0zgD8_W2ztA', 'Wkkqh6S76lICUVJTQOX3s_QuAjDfVccCo5dtfVDC2C-LP-U', 'XN6Ndd3jaTpr2NLe2OiRICxH5SWZjaNGdOcWzRhvV_em33s', 'fUDP5H0c1s4RvGov5Tl4yIdq6NYzLaAcjogTNOZZbfqMJyQt', 'NNgdahEOCfrzJ-pGWklQSRrLk3npBYXUDRxeBUnK8y8mIYY', 'YNcVp9v_r7TfcD3Pl-g6YHGbK5zKXOU98fXsafqiFd-G9WkRigPkRQsW1Q', 'cDHRN-p6mBNN8LYDWybSMXPbhA5gsJ15DMiPZrm9NpZ-iME', 'LYnuVIFOUsC31bIDDFyLPHADzjidzi1U-VwNECGM01-o788', 'hd8lmM2pNEI3017pjzA_outWeAgR4JEe7I5WnDfufFMZB9A', 'mhQRSiwELFv86VjcnNJCupIDMjaTS_MoibtLDheGLT1bBcE', 'szPNQlEPZa5Mycqx3xo4Y3yukA-gS8ObF7DGPxM_gg4N_q0', 'SUATQwbTf_Y5NgK8_-r3j94Ic4Xy82GInWgCvyN38ldwaNk', 'sdX7FTi59MK0Dz93gjrMRObbMiYwI6ko8FqXBVq_fhOvO6g', 'eZvoAEIIz60cRN1yq5FYFrjfk9UOzQev-EnJYD5AH5KvJmc', 'XSQjkHUT87IGjDXIz_TY7JrTCujErBg16XPFDGxrZQ2mb0k', '9FNxIx9fWCyFREBwYYkX-nSNefP5dH7bdECKzfMY84SDmf0', 'dhe6jddIBanAXSYx5gHsaHWtSUpyaZfj6VFauFGNZ_2e', '25AGuWGSNCVv63mtl0sEymG-xydlyXqiuNLzvR4uzfaqb2o', '03OZgSzLIZlEjUi4zVxf3u_HtAqhNtp-0iEw-BdWAOlO4AXl', 'XpVKcx5cKikniUqOEbNCezkSJyK1KNjdKT7I1by5KVpT2Q_G', 'AjFGW5IAcU5Anu4uprnAu-tNdx12agX1gcsQNBkiVEywb5I', 'vtuUyD85F9vatOLG9YRQh40E3znjGSjCrDICEuXgfRb-l50', 'AV0k2OWrqLnnS3eOzZfwgMFiIlkXeiQg8ylzERto8VjTRnvCqurZHf3Wvw', 'pQ86_xnSfrNuzulZvl4rdzA3H_wLetGeoDfReNF_4btYvBs', 'eSavaoJJ5kFlKx3b7qAWm7qdoR5HyI2QGCjjCiZI2wUotj8', 'O3tEE_8aSkIFoN1aDYjy5IJeUfxUtSfhueI_Zc1-2nT9bhA', '5Go1sQJWzsR5QH3frVuUMhUTHwa0Z-b2qNq8Irx7UNIngCI', 'k_S5EEB2bn1BoTEBxDLzj7OzukVjUET2DLJ7QQC7P88Fi_nu', 'H5IT7DKfPDMgaUnsk-w1sg6oWIrwJGqsmr1jroPaq8J162I', 'IuptX-FA-Nnzu8n8YegdgPt37M9UAFS2fxiEEyzEhN2t0_g', '9k0E4BLSelenR2T7W0RWVpFa6wEu8rcVNCFUFt3g8c-m0t4', 'zytIjTFc8K15ZjBP6dQTFBLqrmPw1ITd60AcSlnNVGGlucw', '3J1FyM-0LzfO1zfNvys-HGXVOQv1XkjWlPfzA1fZMVJ-VhY', 'LFDKUBpwxG2Gom4UyLjYSzHQ_UfFdUKer1tHAvM041a6E9b1HjqoCoeDiA', '1WVkp6rOtGjoIKNOrACw8-aORY0eExW0ztllKAwGlwQUC8c', 'p1PqS83rMYgUAlLUTNPwF07a-RxqTn7mvmQdyel_-UZ5_DU', 'xv0yie9HYAjGNRVFG_vFBFZ-zM8SRfnvuc9gPLLeBpQbC88', 'iWhOGdXsW6ikjKsG6E09PA3_HFq4_GzQQqIUGaS4HfIP2qQ', 'Mh-f21oJ1gKdElu7ubDgjJSbjK9mul7_9-m3RrfCqEkO0aU', 'OYTUdcEKP0SIAvLthbruiLrTTBwyXDcnnJjNLMriaES1JjQ', 'nLXLgm_FAR4aG1byDuIjsVPeominDjfsGgJACOal2tfMC1I', 'NE4wOp8f7Ixw0u-cyodkhrpe9hi0J3lM6Rcq-5Jaj3vQvjw', 'JXsywzVkgFGX-q8RFLLGLnlrg-RHbxalR4EFKUot9oo2zypHnDaWN5yczA', 'Siw5Ikjj7T5yGA1Kkev0TqqOpYcQwM7cHYGUyWBscytRLty4', 'xtMymvrD_OD1hMA3H-JxYZzxiOQ_ieLokq2zh7v6Cm17-zc', 'qtdiSt_Ekcnx9H2KYlMlgplFY-8xVWEB_OsIkkPMtqLaB4s', 'hrVKZ0-811pNQWpwZV75Cy2TImawNiRkdFEXOb9ApqVZjmOMzYkhltA2vg', 'gfrvOQGb_anvIY6H4pCEVdUgcl7Y_fHFKN2rj708FQ5T5q0', 'uj6ctiZ2wR6ekCnLruDLwt26mMJBCKyaoanjScsG1kFCErY', '_8MbZoZjhno8vX-JYRTD98H1Xo7qWK-2umQJzKMqaFLHLCY', 'LFwSYLuMPSp8GEMVZyobX9LCKnXXnzjCKv7XJN5TLQf1OUQ', 'iqNAoyh4gFVXBIcyzFQt5jr9TCkW0jB8lSmgw7PefYbIMCg', 'hLYmrvjJf-vRjXScSpbTnuLZCjcpxGsmlsi4HE7np4Nq09o', 'g5u-7IkYc_8D7MpqiaSRw5ZVOehvOexez2XIzf6Q4790_DE', 'kWIZajsLR9fCmDLsZLk5V2ayq00kE9lNagsxC8FQVcm2X0s', '1J8LtPQjUPbQeG6OqQ0uk1SJ39JuROF2fH5XEG53naeY', 'vaHBOdfCnGYqHGGkn96VzDORgGLrMdHS_hLgWZIcHAo6DU4', 'kIvS9aDQNXS9ZwDZ55skxtK_pcJJmewNFrxQMgx6lkw-wsc', '0NG8M_0NqQ5M7sE3YDsgHUyL4pmv0gNxo1vudMGUq7K_fDM', 'tkvdD3KsXzwIBbTi4P2TYirVibYtaGXFJjqWLxtdfNzu-DI', 'E3dQmvMH-bkhm79t9ndGMT29aZFHXHRVrk43cBpmHiYBofdP', '2u5SZ6n0MCEgp4-PGho23Mi_zSbYhyDfc9x9Sx04rg0E9UA', 'LgKvdVSqdcB5TjzyC5vdRtthett9mfpl8EXQW53JYocRzhg', 'ZI8F4yiRAJDs5qMp8Nrbclldnd-bB-VxmjyzCk-kW-_2zmsp', 'mwMCQQWzspfNSDLBaQ1gooWtuCURlTMobQ4FavsocfvciYQ', '-hQusyVs-cEaNdALe-k1qKY9vpK1bW1GFSrTTFKb_NT0d-k', 'OYC-aLFhHWXLTw8HrU_Re5piyPizn75GcvIwLPGBOnlljig', 'rpHmcyHmuJp-4VF1Ime-VRFKS7wL6RCfaCyD7bfamDF7110', 'A2Xw5_8RrHpqOSRHKmehF-ephacgnTCPUKeHZ50sQ75i55Q', 'DnGzNPTO16a4lqd2qyTU2wMHFtjY_Ay2uKVLWqBO4lD02GI', 'KaAPPwIOc2arS8TrvcIgZS6XO3CklJxGrrfJEUuanbKM49RUSFvZni5lyQ', 'Qy0bf6fqWAXc4rSVo5ezXtIx922QkDKxMiCNwxQr4nbsupM', 'nmeXNp_f2Jiq0Yun2iVyk3WN97wAaw8v60m6mUasIyWeurH3V3Kq954XEg', 'GB5qh5r9sU2uppWxPTiJT0J-j9PFYJpjyKph3KAJOx1ACcw', 'ngQk7Z_EGvKyVWA1rPe9Dh9aVb6qxIf47GZuyKAegv-toKc', 'v6qwSgjN0YWmiZpAiTDtem0bne2KDBjMKFgWWS_rtHMVm9A', '21AeWEgLXi-4mVkg0aWRCtlj2ZL-d7FzM4euQi3Uy17G_dE', '5aYJVpdEda3-otV6HSb6_WG6mW3ouXP9Om2VTAg3SYOOd7E', 'UVjU6jOGE0YZsJyordYxQsfRPtgCyoGvP2Pa68LbM06i3FM', 'QGs3ZsDCzspnGeA6LTf_fnMNZ5FJSvC2Ewke2Q37yAsWOTI', 'YbRVmBgdifrJFgalUNSwCCxjc506pBrCWt2nQ6ZWXbid5iKUjSI8-C_cSg', 'oe3Xq9kT1RqPLlQaEskPTpZzuM7v5wluHiBAC5-2jmMyxAFF', 'LUklUYJODHex47N6XWYXf1laYDS6rk5W5bCq13CjD1L5jeQ', 'lxd_HpNFy7RBPY8X21hh1NWAKKPQq7j_UN5RR_9FGizlCs4v', 'aB3Nift1OBWVbYhozwxK4_NBXR-K3uBeIywC8t7tMfR99gg', '4jBJ1_dBdB-v9InUYUNPEH0yWQWlw5rW4dyRYLl-WpPNkuU', 'GJnq2kiY-QjmaHJS8mJUiUCfBrnh_ollsKY3HWIZ2uetO9g', 'l-8i5m7QhIYKK4vZ_y4VIBLSNrw9HbIGQxIKp834BaihnLQ', 'r9E2_j_LNe9j90a5RsWsCO5E7sekmgjYyhCqnt-0nwVwp6U', 'puLaOxNTjk5Z0b5Mnj2ajKUYmkWZhKAliO3USzo8uUocIOMhTKY2_fSveg', 'vV-gSiyk8tLqvX99i9e6tAq7EoW9UpVazb6XvQrEHaNZElA', 'EOjlEtzCkqf4qrWTIGrMfoEyGcuLI3jkf82-a4V6HY_cDG4', 'qO4GJGEQ5JDl4XJFzh-BowaGjtX6R35_lJGKwLfLS4qd20c', 'Fs4zdl-XU0a4G8jOqyGwaFnL_eHMsbqIBXnfjHfWPHW_Fh8', '5P2IssvbKnTxdjBzDd2hqz3tVL6FxpACiX6NWzyTcS_SJQ4', 'Cl-aXOBsbdX-aUUpOUyMtV3jQonlGkhPovZbB6JzzyuslAk', 'haPLJf8KvlGOFMdGPntG3UYvlbhZkq8BWrnAEbWt8WRcz0vX', 'tj1U6HAfcSh8-a2dUpgGlymKwO5-jFeJ2V7E8WG9MFYiNXk', 'RdD9R1t1a8eRz7h1394tnPAVln4EyD3JHNuZzXKjTM8j6zA', 'Ps-48gWhvWsXHS63ApfRH5QE_AApw2ox4Pzpvz1MbfeGRsg', 'FkyUCp4s5aDCZiAupbSNAyakrUd3AJxwcSFfXg9SrxdyVb0', 'Kr-FW_rRGa-s8FEbIPg6Bu-XG0SgSqaSUey_v6dA9In86Hw', 'Qih2FFCx_A9qaxUOzyTQbT5pxQNWpOpTbnWzH9v2HpRHWsY', 'oxvLCFdUIzmiNCx9nZNlS2N5hfSU3ZHeUEPkx_VYN1WW9O4', '_DPml9JpY50ylHb9nY3BbpT7A5POOWgsptNazScGa1jQv4s', 'QmYdnQThHThWyf9J60sW2WlvduNCLvHXntR7rj9eStQqQ54', 'OjDPTlCHvUz3AB4KQUho5BtVh31XdE-GV5XQpPdv0Ryt2hI', 'CyDzjHk66juMHCC7dCz08b9zXH611PQL5ORdwRZ0Ybh5kR4', 'EneD8OfSwRuRH9iu3D2SenHz-b7frGoJvLyJHYRVUWfplVQ', 'vB2zgWPHAX6ieHObGBy-h6pA7JuJB6H6JN0BptKP8blYOO8', 'bY53MJ7fM6eumzDt-37KdN3p0DXSJSwF9p0zN-2tnElryns', 'PWAYIAIkqPAM6McraOe_2FHRIsh40XaM6-8CJY4v0yVAjV8', '-kmvl4HiGG14Iq8ZVVj8FRO2_XC_iVUNjhjHheYZ9gVeOi8', 'FzYgJBQBlEcNwUDB8hhr8PPeybrqXX-oc5NYDPtHRoj3LeM', 'pvJccGlJRsfMsEK42gkqhdX9Vq4OFg_XkOQUNk0gCfndMHpJ', '4t1QmVeJ2O5jsdvm92rMl1d3gy7HonhdiP9Wt148PNC-Bw0', 'QGAGDSfOm7HP6pPV9sJse4ycbgFNUzy_RTyOtAc2vI6qagg', 'y_2a3ZM4Dz9c46FM2VMTUfDzHbD3ujL5GumdKVqk_21bVS0', 'WA3fGeCrBtX0pqVvV8MyoQQJ25xZ1XM01WxIOfmvDAjwvyQ', '-4e2HRr_AumfAouMkE74a3tvTXDYxYnnccxMhN0uvvRWCq4', 'MXGPkwnpOtJxGgl5X6jR1TaNFrW23JZ2__z4rJvlDSor6EY', 'wRK9gzsqhka6gMSOLNlM1bW0tKy67DLIXFRZsm5P8LtDHWA', 'UcRpiNTVewy9ny4hCZ7NhV7IgsqlAcu5K0MNMzfJ1G-F2xg', '9-v3necHahGtLS4F90c9aWeXgGbgUZ6NP3muBEKMIsvlYNU', 'OVCFyhRLFj4sXWA9SJTa9SUQ2E4qFDTObzmvdnsdIVnYMes', 'hhB8lpCqBgh1K50rEq--noYeQSUqIrm9gY0mV3DEW4kF7Bk', 'TONEQvCBmOHKdtD-eSl01ZIDUzpF7b2wn1QR8Ni_BUynIHI', 'ggSZ8KxKzU_p35Mm8nyRXzM4XXDf3VwngRpBfF152Wpcxt36', '5CGBcyjwqEOw9OBNGoyds1ATkOn3-CXGtgXN6xyFIylKj3A', '7_HXE1OYgo5-kaGKoEWkhuroRmkVPL8lQoAn3ZtaO-6araw', '5pqBlIGMjdCRMTa3TurZP-1mbOOb5Jrpv5AQB_4c9huwMd8', 'QMV4zkx7lxfMm9-cfy6HmI2kWlLmpGnK5AyysJpBlyntp5Q', 'h9DlCKjAuI6M6d06CCHVRXK6Mywnb0cyxLH0tfeU0-o0nNE', 'BtdIJ1sbDxOIzNhc_jkizjkqkK8xMZQlBEbSDDPptzPSUfs', 'zqZl0RREM1WucJ2snnTvaGUCOhcrV-VfGMYPWleNi6Q2P7c', 'ROz8NaPO9S1ZaT2LXiDEi2MdSNcy29dL4JBHoBqKW5RLl1usmO71jliuJA', 'zOC7DR75uP4IQsRCWTFJJpMymKvLfRn1hASWLMKIDsHD-gj8', 'Y22QQrAEqUrzu24o84XhbxPyR-ITOG3YjEiaYi7f1cYeTVzhLKS5KMSRkQ', 'eCrvZi9MW8B4B3pgcbJ7mWM1kv3_QVEjoPX3twSauKTX', 'NwMiuVX_32HY4u6h6v_IarrH--b9pNKV-tiTGOg0-Vo4wx8', 'tuR_QInZ2BfmXhpfoNLJFAcPxaYnECxxN8tJl5hncfqq3-C5', 'qQMGcOJh0lh7aLWRC3hLUhs5YNniLwLyqH_QH2H9-KCL_ns', 'SiUgBRCsWo6vOPJyo-0B38SXq4MGj99cco7FQcJVwSDh6RA', '3-vBEZlmDNh6M-xWor-urKYQ9tLcAPa090R5GXKBmHx2NWA', 'z4chIfNRvWK8L-r1mG1nDKWfUVk6HjHjM73XR8LFswUC', 'OTblC0x6IqI_-SSqH328KQAS66ZCcd-4yTQO6C0xdqF4ok0', 'edk_54-6sV6FA6tOaXoxhQURKLbhg6Qna2WuRQn6vxw8xyY', 'SepFiWj7EELsumikE-TUA96502A00l0seOwCeDCGaMEuG94', 'WvpUI-I_snP7pKgQEC6cY0Gz93AzAgoQMX3jkTmUWwmQsz4', '2xB604sfIzhOTnKfqmAz-sAvBff0tn08Nk9qiIyj9D1RLFY', 's9knpoCkXavKoENMlBG3O5yRMX1P5LvyoKeU_3s5uwCcBFpbwzfeTtDI9A', '7tfyBKYddb0sLtfDHp9U_XQC-Gq0_O1UKZgioOjw40C28rM', 'M-b9SvoHSM7vQ-X1h085K52_h9BgzTe8Wbk2vwYVBRKe6Qc', 'FmAeJ6LdR3UDDawrVksQ5YFfUVcOEe8u48ULNQGDlc860Dg', 'jAbZ-ZHHuxh3hYPSh9FcJb3NvKYyZ8u9_u9gxbTvSWCn6Cc', 'LPwBmHhYlxy9LvUi65wP3plgczooLUDDg-p-F5QS5TXeIqg', '64Xkh7WyaRHkfepd8OoMQ7yZnt8EfdzVyX1f_P-SPtgQrG8', 'TQRtinBd4SVyV6dZOj2DcnMOWvnHScybjmvaf5JNKe0NSqs', 'DLM47AFIFj9lCDiX__cw_CLdsJJzyUu89BV4p-DDzi85H5E', 'ZKWJqPjTUvAsp-3KesecdlHgoVh29P3Rwfp2cuHo84ebI0N9sBaT8OmZlA', 'zQ-VdVNPa1A9OLlDyUKuXIMaDV4qrql9fJpwmXzCrv2nK7A', 'spdT8BFZL4YMKj08oLPd7ffeno1Rz6zqH-PQTyDhrfoP_Ac', '2R_BUCY_4NQ4cxxV-hL2c3-B62mXx0r_Tn-uN5-62Cq6oHA', 'kczSxzC2jejvplovTyYY_4rrCHbGZyP37g9t-skK7sERltBg', 'PhcnqThV4Qykg4FFIlao0HFf0b5vmGBSIx09w8wUSO971RE', 'f0nimaKoBaoVDZzOEDp_sX0n_RtyRWxzuCRJ5xLpmEcDPDY', 'VOmfzmt61vnDyN_6KkcPaml5UecvibB3kaoPzskDiwfETsc', 'ZlX1fPfsLYzN6QTb9vWZPorZIAfugXezhVtiiikOiXmOok0', 'qW74wgoPOA0tD053RKh8dh809g7mHO4ufYCLO-PqpypoBb4', 'su66cZ1Gy5g_m556qUTg9a6QbsRP1W1y5TlV93G1DLZJIbo', 'GcbuaulOZyAa9glWkf5TscANqQi-Ng8IxJwEx_4hgz-GjJA', 'kPXzCDsbUxcITxL8XpGdGxmocFL4NNT8zFgnOb3dBdwxCJI', 'hwBdIk-N0IefVGx5Cfa6gn-KZq_584fbOJtN8ppQuUBi704', '9-h0qGA8SvpkuRzeOFAbveCrjC0cfYnfiB-IB9t0Eu-KaEjy', '9qh4uTbo2uNVQAbP2R7pIwTI24Q4tCd0zFkXxZzwwm8DVSc', 'En_YqfHmBOhr0iz7_5gf_wczmRa3x76HYMGACHPRHdvNKXE', 'QSWlUXkPVpEqUHt3lr5cb7VXsodFVxcrH-A1HErUDVnesuA', '_do22DKxNb24terDjP7euwwpRi2rHEK-igWTexesVzJE_Dk', 'axhspm9kqjJWbBdOFZ8mv4-b8lw96QcuhDjKuHH4IYx16-Y', 'OPUF2rtR4ICqCdMlam0wHObwEUlTJO-RkbZREmFAz_HXgJ8', 'lqMIPrSb5T7r72ZPBC7ZY3ujr3usoPdE8sHrrr5lzEBMk2Y', '1k1C0BPkobupYISdYkQho1pQlB4-wGdOxawfbEihouEeEzE', '_jJTRmrNnYqqMlY5BEqG4f3PuekFzN1kccOB4qzQIEWY1SY', 'KaImxfwZbM5NwZ2n5mvHE1p_eRDO_AJmFv93kSs0tcXiH5w', 'nXQtBBNM6PaJutM9g2EfRxeGoz3ToJw6kHQ0octaqFdKqRo', 'zRY_-AsgKFQBT3DEyl5dc-TeJmjbIGbyBUN5HFMn1VZFhWU', 'HyP8KzHaApLYmkTF_p-bATjvCac7f5dAAaghUconC_5uy9A', 'bV4m3cVUBtx9YoaD0IL-oIOAUR3_0ZSNNZaDEp5WrNDHyVU', 'iN1BSJAnprPswGFdvVe9S8q9fdEMt0iEF7t4VTsCzc6aSK8', 'GZHpj5VOx-TyH3Ezp5DxlkK5zmtqa6aD1C_ISEsWJYL4w8U', 'xf3JROuvDpJSblz5grjY_rAOjii_Ia9l4M8w-bsIuX8eEKc', 'HKNnHSWqcQLy5hcUB3Wtev6_BTk-l_wFQEWF_txUG2570Aw', 'FEnm0BoTP0d1qhBpu5MPuC-IB7dwUmr-a1n_YXavBnDk7Xc', 'LCHERocKCZHuUSCL4Pnc2ff5ARK_SE_zUENUzkcPoGgZLDo', 'M306F6KSaXFGaSmj3kMiZLo1ktifxaGJcEewYZYKP0OCsA8', 'Gqc15HS_JNY89Ytmmd7qmlLMdh4nPbNa4jrAtkSMjG8c5lU', 'G1sCeQoFCC1IG779AQQfPVTpvQ3vpuXeFlhnLbI3rshg7GI', 'JjW9zw4QlftTQnukMcxd28Q_SIhdcGhmJ2zn3zumr79MBK0', 'ynXbze0cWIr1VmAEH4DIncNk2vp-Lg2XiMdOA9ZxfQGdgUU', 'V4Q6jIYneuOwMXX7B_NrtIZMuVTTWutZ8Whsc6M-KLnM1_M', 'QPJjdgt0GYCZ0hdRkmKJnNVnufdIGvRm1G847VH21Vkiamo', 'AI7bz1JBW23fP3joMnkJpsGm3NdccAJHxQsKaf3JH4JHRYkJ', 'QOg-gvAM86Muv4Wr1rLWHkYxFVZZNr01ibW8EBHTGLd4yjs', 'IoALuC1BxyjpBeyVCX4CF4hLfuvELUPKt3ecrxOPRFosIc2RuQtJoWi5CA', 'SIZAearUfgZY1MprW_XtlrvZj_8OQfEJYsQke1e7PSH2ztjHbdxO-cmS9A', '9pqwpZI_GtgrNSIOnWdduCqxquLaLEj6otMioXB-tEqRT5c', 'TVIgldsif185VqQ4A7z-W2OemU389EWqouU5__Z1Moi_3tY', 'AUpmfXfLSA55CFvGOD0rzG86jLa0DKMhApRhq0Yo0EN3UYHKnpy7a0ES6g', 'sIGhkzFQw1VCowNx2ceyFa4Ah1z0VGyFrDuaqGXfGChCEno', 'PnZC41reilWJtZVThUxYrtP6nr7ZxxGtZ1c6ORZOnKcJcS0', '_GyR3m8EAD7kGLfGySOm6WvnERlw4AYW3-FNdVapmwf_SwM', 'bX6U4Ks58_Ua_pM4xv7CnPK0hyHslMsf2SJiZup0qLAaZo8', 'QV0d0PNbY7PbU-OFUMTMM2l083mGC-mEZ4INMD3zJ9akB40', 'CtCqbXqH3c0lhHOPFhnoWlBaFhbUFHxu6yFLyNKK_97vo6Q', 'T3pt38gkcrg22s4x6eN_5Rp5mPAqzNT0pnESXp_0E1p1wRo', '9COVLmyc2xUwPn39qR2m0tZtfTPZqkKjSpsxNtpUtc-Sy9Y', 'SsljiurMTHGy797xVSGIDDnYNSQ6q92FEz7xXWn_p3ukVcw', 'YsWPQB2zsCvu4Q-v2pO5CF9JkgxxuI7e56FPZrOgnG5CtZg', 'sgcBMfpB1Z4vuXdr6uromC_ydvbFX694px7aFZVoAb-g6Ow', 'eIJHvuspaJSdxYs1hLu1UgB1xAjiJjH2ZYQEiWiCkkdz7FU', 'Ve23c8tuojuD3wxtbeLSntkVIfLABQ3E7hfOOChi78s9cZvx', 'U1V-uqP-t0_im2tYKLues9nGoEpyLQGz5wwfpmztRc8ZfnSm', '5PHBCqRbC_SP_w2ugancGtPIz9tY28GkXYGZ9P9hupZVGSE', 'HAnAFjCntofwERnKtt3bCx14WsYbAEZVPca15fHtXqrVdpw', 'soQLJu9R9J6yUQlYaiyvsMt8qjLmYr2SmYVvfg2KrENRD0c', 'EGXAg1-uMOJliocxQGWkfCLE7PyfuibFPxBaWPaTn1wfmgo', 'yB9yfgfu1OX4NbjJ0PEdqaNrDY02FvH2mIRJdp2PNGj0N98', 'b8niTOfb8FXp2Zssn4jOgd90-1qSth7-NBYQZK3UkBP-uWo', 'rWjY6D45YUFLOjZpH81BSEt95SBBpJsG_hf-VGl20NayXNQ', 'owHPPd7zItX11GipKRbSSu5HngSCiyVUsXkrdWvoXQmOtEI', 'MOtptVF-douUsHC2vr63-t19RATb05tx73Rb1Azk7CX0EPs', 'ubnwaPMlsuABV0sk98fxnyVBwTcof2A8qgTshaH2-FI60qA', 'QgtkeILMhtVjwCWR4amdeAH0_EWNh2V-YRLpQLB9AhVUxJ4', 'Yg-wZadJunDg5wruAt_x3kFLCQejbvg2f4hpcb6oRxMtub4', '6uv7HPBUDFHIAsCkePqh5NXgbShEwTFl-HZKQRU500uMUD8', 'ph4hhnMPevIchMWHoletUcyUBU3cVW0OSJqYcvT0FRRigrY', 'qVFFrZ4aRkn1s52mBXruUCjJphJtLNb4dSH2AKk1nJExKeI', 'q3L9pVD_ZF0gZvQy6Fw6nG0soFUWouj7O94MMs-Vru7Wvwg9', 'hQIQFQ5vpnWeAr8hgxLBjmJ4LgUS1kTmWkhHuK9thU7emIc', '-NysThEYcDaphjiQUr7y1wQDqD4H6Iso3WY2bVnKhq22QIg', 'NnzkqgIbGOtbgDO9J95qO65-GCl8lbDbIQDrpwQfbMZi0qA', 'oF3RR2zhAp11MESDUxwu0AApIz-OasI2iSOu8uIFZ14ySDc', 'KGYMdGLtFDC-iTssgEXjwzf3ZxJ6lT8SJI1bchcXxn9J', 's4STWRjiLXUScJGvL_Fo36pgDVW8Dj9u1c2riFcv7ETvy5Y', 'NoVZ5dHBiMQ2rmkzQbxbyQbqIHjgccbNn3AmOtSReD8Unno', 'zS4feEoMeYtjHxgYjCmV-nEFdAvQfMSPw0u1jqEJEJMFEz4', '73ZqsTkORvQZm3xwxgBrYc7MJgRbOLs1WjpFXDnpsatoajo', 'irlbeG3uhIVR7bkkge7iAW3vPADag3mKmIZd3Q0KPeova3E', '2OTjnrcsRu7rHauNx3Z-QVumO8rllaO_SRi3H1EMX_EIDgs', 'acBzcCHOvzDeJvW588D0Nxk7Lf_vZbrDH6Jj5qkKlGQ89XI', 'NmzJxvyOLGtSYSSUb25AB_pKD73k5lx6l1K0ooqr3PHQVMU', 'mip3rVijqOngV7uz7i15oGwXi4Wl_VvbZ5rKuQS47hfJsDc', 'jmz1Qxn6bOnzw_LkCJPohRbrpyzIWqnxYH3VeGg2CTWxjZE', 'g9br0QtcWWqSdWvFpnoaXagFRT0O5-bKICFc1TNTvqqdCFPI', 'TOvNlyy9jq6WT7CEwbWLJqgqfwX_LC7Yb_7A1A9Ce0hrcD8', 'MdnCI8974ncJSSb_u8OOSToEyCqgGq9Xx3roLLuvkFeXVmbI-SNy__mKWw', 'AxfAkM4udkgeWGakZyzV6FQuyY5RWxAajhRTTKYIxkT1Sy4', 'ZaBJUh-wKJeQ0-lNYzJLWny9A9icxNSgfmc9FcXFk9yU2Io', '_WdMBtjFbRufByEg9HfhmHovx1FjLuK0pUiOh-capprZA2A', '9P_o_xV4VT1YKO5lpICyarcsBsUq8-imIyNX8X9i8_-ieJkv', 'ZU1vl0VP4hMOvla2xtpLq6HmHpISNOuoZBTLAUWISoYmjkA', 'AE7pV35B3sRcZEi7-ONbcW_7whfBamp65xPbqIiscXsbJCo', 'wplRRXJKR_Ld9vmbBN9GHn-2F-RKZIegMh1UIxCc-8geAM8', 'MmFSSfkD3sl31i3VhOudG1bVhFDBjqJr8OpOoEBKwU_8pnQ', 'rLix5Buhlo3mkjxAfjN35sO4BLAwgE4je2ikmCVxq8WeqxgBJ1DBvw9zvQ', 'xA-KNoS6jJMquLKmQ40ihIIBGkNz2fR5z9bnc5gDS-J3aGw', 'MWo3ZvpBvowVPsuEfpA1guA3kb5WniH31Xu_zR4_aJKkDkKA-gGPZvWpEw', 'Q-_nMhIZGwRP43mukt5zFS7wBVcXfk7u3qcxZUCjAf1bkD_4-uPoqXV-QQ', 'm5za_76Xt9bmzoCq6XThMHDN0SQZzyVT3ROskllMjZCBUZQ', 'UaqqtgnN6myTCrNdJnrYtYbuWGCur0QUsWqjRX-09zAR3kY', 'sqhvJNNbJRCXhjX9YE7PleA_FJEwnuIaLLN-91qD6A3iKrQ', 'NWZbHQEvELeNyHwgpCtJ8fq3kYypw0Vb34PDy4tIi9up_4I', 'HWORUKg257Q8GO-gB0OmM3K5xm28Rrg0SoTAGIahYySg2zc', 'MTkbqxrdHcoTaGPZc7gR5rFArcJ0h2HovzKOk5B8riSWGPY', 't2LJD9AZdAgkXtLsZdEvLkFezXtxmx3kqr7l4JtdF5x_HO4', '97iIF2vnEEvtOvnRD0CWcMRpFHCnUB0X0V5IZYdkAX7RfF8', 'tEx4dhnkMzVc2JaU8avFILLURw6UW7KPyUCoKabAlJC7duw', '0GbbvfaNlOdML7oM1n_9DgRvu56MPzgzLtgYSqTHhm0Zbvo', 'fU-prRPLtqVIWA4nVPb3fcgyFrigTNbg9ZNG72L1Zg8UZH0S', 'i5PxLDB1v0f69-Lrj_9LERSSHAlpi2cn_9JYZ9QnFLnlI2g', 'M9RUhVvSFY_Y5Uscb1QLPcX24SKkWYABgTDO3D6c8GOV5GE', 'NpelH93DUBIUS7MSdIzxN0joESB4luE2iX0RGEAU0DU5eV4', 'muEqDjHHtV1L8KBeHK696R5pcPA2Tp838IPzCQ-5XZv0CMam', 'jDqW_xYDdLF858ioZJu2TfRAauLnC1YS5gS1KOWs8NXjyL4', 'GFBxvqpIvQvxEipmylvYnYGmGM0u0CZX3kmYSNkKMX-lzHY', 'Wwuxmz_4nmgKIXq9DMiJniTHlMFiRH6tczrBUxlErld6Js4', 'QWH19PH4jvu3D_t5gcJ9l1DP2CIskMUq54xwbIs5XVMhqZc']\n"
     ]
    }
   ],
   "source": [
    "import requests\n",
    "\n",
    "def getSummonerIdFromLeague(API_key, league_id):\n",
    "    base_url = 'https://na1.api.riotgames.com/lol/league/v4/leagues/{league_id}?api_key={API_key}'\n",
    "    url = base_url.format(API_key=API_key, league_id=league_id)\n",
    "    \n",
    "    response = requests.get(url)\n",
    "    \n",
    "    if response.status_code == 200:\n",
    "       return response.json() \n",
    "    else:\n",
    "        print(f\"Error: {response.status_code}\")\n",
    "        return None\n",
    "\n",
    "league_id = '11198419-ad53-3491-8013-83befb903d46'\n",
    "data = getSummonerIdFromLeague(API_key, league_id)\n",
    "summoner_ids = [entry['summonerId'] for entry in data['entries']]\n",
    "print(summoner_ids)"
   ]
  },
  {
   "cell_type": "code",
   "execution_count": 23,
   "metadata": {},
   "outputs": [
    {
     "name": "stdout",
     "output_type": "stream",
     "text": [
      "['7pA8WRQ9kEmeAMmijVPQ4doRvr2hVAEkCUtBgoqf7K5JMyaOVl6YK7ToWlRctpdpzPWOaSrNR0YCgA', 'YGpfj0hHraK1pMkpxUpHNfk_rAPsuBZN6NZkqvhHRVLzFnAhp3Xnrzpva0kYT3A1H0jid_4psIMwCQ', 'aVAKBIqwtWGTmplqPmVHpfUZRT462RQLDHIzixrWoG-kUmvkxeD6Ivn0GgClbpI3hCcO4-tkXueJ6w', 'eAEjrDiU6ex-nWcT9LRo29rSw5pTp30LPqrCb3iFHeR9k3CyhakT01rsn3OD36VlYAiaoPCF9eWzPQ', 'jvknyooPoxo8oIf3uijuH4mn6iExvXXgi3SwGvzyWjcEs8KkwNLccR9wkMEd03CmAhnvTAtI9iVWdg']\n"
     ]
    }
   ],
   "source": [
    "import time\n",
    "# get PUU-id from summonerId\n",
    "def get_puuid_by_summon_id(API_key, summoner_id):\n",
    "    base_url = 'https://na1.api.riotgames.com/lol/summoner/v4/summoners/{summoner_id}?api_key={API_key}'\n",
    "    url = base_url.format(API_key=API_key, summoner_id=summoner_id)\n",
    "    \n",
    "    response = requests.get(url)\n",
    "    \n",
    "    if response.status_code == 200:\n",
    "       return response.json() \n",
    "    else:\n",
    "        print(f\"Error: {response.status_code}\")\n",
    "        return None\n",
    "puu_id_list = []    \n",
    "\n",
    "for summonerId in summoner_ids[:5]:\n",
    "    puu_id_list.append(get_puuid_by_summon_id(API_key, summonerId))\n",
    "    time.sleep(0.5)\n",
    "\n",
    "puuid_list = [item['puuid'] for item in puu_id_list]\n",
    "print(puuid_list)"
   ]
  },
  {
   "cell_type": "code",
   "execution_count": null,
   "metadata": {},
   "outputs": [],
   "source": []
  }
 ],
 "metadata": {
  "kernelspec": {
   "display_name": "data-sci-pipeline",
   "language": "python",
   "name": "python3"
  },
  "language_info": {
   "codemirror_mode": {
    "name": "ipython",
    "version": 3
   },
   "file_extension": ".py",
   "mimetype": "text/x-python",
   "name": "python",
   "nbconvert_exporter": "python",
   "pygments_lexer": "ipython3",
   "version": "3.11.3"
  },
  "orig_nbformat": 4
 },
 "nbformat": 4,
 "nbformat_minor": 2
}

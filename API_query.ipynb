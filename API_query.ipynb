{
 "cells": [
  {
   "cell_type": "code",
   "execution_count": 2,
   "metadata": {},
   "outputs": [],
   "source": [
    "league_id = '008da363-45af-4a07-87d2-f22567e27213'\n",
    "\n",
    "from get_summoner_ids_from_league_id import get_summoner_ids_from_league_id\n",
    "summoner_ids = get_summoner_ids_from_league_id(league_id)\n",
    "\n",
    "from get_puuid_by_summon_id import get_puuid_by_summon_id\n",
    "puuid = get_puuid_by_summon_id(summoner_ids[0])\n",
    "\n",
    "from get_match_ids_by_puuid import get_match_ids_by_puuid\n",
    "match_ids = get_match_ids_by_puuid(puuid)\n",
    "\n",
    "from get_match_timeline import get_match_timeline\n",
    "match_timeline = get_match_timeline(match_ids[0])\n",
    "\n",
    "from extract_events_from_timeline import extract_events_from_timeline\n",
    "timeline_events = extract_events_from_timeline(match_timeline)"
   ]
  },
  {
   "cell_type": "code",
   "execution_count": 7,
   "metadata": {},
   "outputs": [],
   "source": [
    "# Store game end realTimestamp and remove column\n",
    "game_end_timestamp = timeline_events['realTimestamp'][0]\n",
    "df = timeline_events.drop(columns='realTimestamp', axis=1)\n"
   ]
  },
  {
   "cell_type": "code",
   "execution_count": 34,
   "metadata": {},
   "outputs": [],
   "source": [
    "import os\n",
    "\n",
    "event_types = df['type'].unique()\n",
    "output_dir = 'event_csv_files'\n",
    "\n",
    "# Create the new directory to save the CSV files\n",
    "os.makedirs(output_dir, exist_ok=True)\n",
    "\n",
    "event_dict = {}\n",
    "\n",
    "for event_type in event_types:\n",
    "    event_df = df[df['type'] == event_type]\n",
    "\n",
    "    # Drop columns with no non-NaN values and drop the redundant 'type' column\n",
    "    event_df = event_df.dropna(axis=1, how='all').drop(columns=['type'])\n",
    "\n",
    "    output_file_path = os.path.join(output_dir, f\"{event_type}.csv\")\n",
    "    event_df.to_csv(output_file_path, index=False)\n",
    "    event_dict[event_type] = event_df"
   ]
  },
  {
   "cell_type": "code",
   "execution_count": 31,
   "metadata": {},
   "outputs": [
    {
     "data": {
      "text/plain": [
       "dict_keys(['PAUSE_END', 'SKILL_LEVEL_UP', 'ITEM_PURCHASED', 'WARD_PLACED', 'LEVEL_UP', 'ITEM_DESTROYED', 'CHAMPION_KILL', 'CHAMPION_SPECIAL_KILL', 'ELITE_MONSTER_KILL', 'TURRET_PLATE_DESTROYED', 'WARD_KILL', 'ITEM_UNDO', 'ITEM_SOLD', 'BUILDING_KILL', 'OBJECTIVE_BOUNTY_PRESTART', 'GAME_END'])"
      ]
     },
     "execution_count": 31,
     "metadata": {},
     "output_type": "execute_result"
    }
   ],
   "source": [
    "event_dict.keys()"
   ]
  },
  {
   "cell_type": "code",
   "execution_count": 35,
   "metadata": {},
   "outputs": [
    {
     "data": {
      "text/html": [
       "<div>\n",
       "<style scoped>\n",
       "    .dataframe tbody tr th:only-of-type {\n",
       "        vertical-align: middle;\n",
       "    }\n",
       "\n",
       "    .dataframe tbody tr th {\n",
       "        vertical-align: top;\n",
       "    }\n",
       "\n",
       "    .dataframe thead th {\n",
       "        text-align: right;\n",
       "    }\n",
       "</style>\n",
       "<table border=\"1\" class=\"dataframe\">\n",
       "  <thead>\n",
       "    <tr style=\"text-align: right;\">\n",
       "      <th></th>\n",
       "      <th>timestamp</th>\n",
       "      <th>participantId</th>\n",
       "      <th>level</th>\n",
       "    </tr>\n",
       "  </thead>\n",
       "  <tbody>\n",
       "    <tr>\n",
       "      <th>42</th>\n",
       "      <td>111318</td>\n",
       "      <td>7.0</td>\n",
       "      <td>2.0</td>\n",
       "    </tr>\n",
       "    <tr>\n",
       "      <th>43</th>\n",
       "      <td>111784</td>\n",
       "      <td>2.0</td>\n",
       "      <td>2.0</td>\n",
       "    </tr>\n",
       "    <tr>\n",
       "      <th>47</th>\n",
       "      <td>127155</td>\n",
       "      <td>8.0</td>\n",
       "      <td>2.0</td>\n",
       "    </tr>\n",
       "    <tr>\n",
       "      <th>51</th>\n",
       "      <td>134466</td>\n",
       "      <td>6.0</td>\n",
       "      <td>2.0</td>\n",
       "    </tr>\n",
       "    <tr>\n",
       "      <th>53</th>\n",
       "      <td>135831</td>\n",
       "      <td>1.0</td>\n",
       "      <td>2.0</td>\n",
       "    </tr>\n",
       "    <tr>\n",
       "      <th>...</th>\n",
       "      <td>...</td>\n",
       "      <td>...</td>\n",
       "      <td>...</td>\n",
       "    </tr>\n",
       "    <tr>\n",
       "      <th>765</th>\n",
       "      <td>1533158</td>\n",
       "      <td>9.0</td>\n",
       "      <td>14.0</td>\n",
       "    </tr>\n",
       "    <tr>\n",
       "      <th>770</th>\n",
       "      <td>1544625</td>\n",
       "      <td>2.0</td>\n",
       "      <td>13.0</td>\n",
       "    </tr>\n",
       "    <tr>\n",
       "      <th>775</th>\n",
       "      <td>1556004</td>\n",
       "      <td>10.0</td>\n",
       "      <td>12.0</td>\n",
       "    </tr>\n",
       "    <tr>\n",
       "      <th>792</th>\n",
       "      <td>1608534</td>\n",
       "      <td>9.0</td>\n",
       "      <td>15.0</td>\n",
       "    </tr>\n",
       "    <tr>\n",
       "      <th>798</th>\n",
       "      <td>1615653</td>\n",
       "      <td>5.0</td>\n",
       "      <td>12.0</td>\n",
       "    </tr>\n",
       "  </tbody>\n",
       "</table>\n",
       "<p>127 rows × 3 columns</p>\n",
       "</div>"
      ],
      "text/plain": [
       "     timestamp  participantId  level\n",
       "42      111318            7.0    2.0\n",
       "43      111784            2.0    2.0\n",
       "47      127155            8.0    2.0\n",
       "51      134466            6.0    2.0\n",
       "53      135831            1.0    2.0\n",
       "..         ...            ...    ...\n",
       "765    1533158            9.0   14.0\n",
       "770    1544625            2.0   13.0\n",
       "775    1556004           10.0   12.0\n",
       "792    1608534            9.0   15.0\n",
       "798    1615653            5.0   12.0\n",
       "\n",
       "[127 rows x 3 columns]"
      ]
     },
     "execution_count": 35,
     "metadata": {},
     "output_type": "execute_result"
    }
   ],
   "source": [
    "event_dict['LEVEL_UP']"
   ]
  },
  {
   "cell_type": "code",
   "execution_count": null,
   "metadata": {},
   "outputs": [],
   "source": []
  }
 ],
 "metadata": {
  "kernelspec": {
   "display_name": "data-sci-pipeline",
   "language": "python",
   "name": "python3"
  },
  "language_info": {
   "codemirror_mode": {
    "name": "ipython",
    "version": 3
   },
   "file_extension": ".py",
   "mimetype": "text/x-python",
   "name": "python",
   "nbconvert_exporter": "python",
   "pygments_lexer": "ipython3",
   "version": "3.11.3"
  },
  "orig_nbformat": 4
 },
 "nbformat": 4,
 "nbformat_minor": 2
}
